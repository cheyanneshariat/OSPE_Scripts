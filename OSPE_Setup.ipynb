{
 "cells": [
  {
   "cell_type": "code",
   "execution_count": 2,
   "id": "b2ccec7e",
   "metadata": {},
   "outputs": [],
   "source": [
    "import pandas as pd\n",
    "import matplotlib.pyplot as plt\n",
    "import numpy as np\n",
    "import fileinput\n",
    "import glob\n",
    "import os\n",
    "import shutil\n",
    "import random\n",
    "import math\n",
    "import random as random\n",
    "random.seed(1)  # set random seed.\n",
    "pd.set_option('display.max_columns', None)"
   ]
  },
  {
   "cell_type": "code",
   "execution_count": 519,
   "id": "580111ec",
   "metadata": {},
   "outputs": [
    {
     "name": "stderr",
     "output_type": "stream",
     "text": [
      "1835758.76s - pydevd: Sending message related to process being replaced timed-out after 5 seconds\n"
     ]
    },
    {
     "name": "stdout",
     "output_type": "stream",
     "text": [
      "\u001b[33mDEPRECATION: Python 2.7 reached the end of its life on January 1st, 2020. Please upgrade your Python as Python 2.7 is no longer maintained. pip 21.0 will drop support for Python 2.7 in January 2021. More details about Python 2 support in pip can be found at https://pip.pypa.io/en/latest/development/release-process/#python-2-support pip 21.0 will remove support for this functionality.\u001b[0m\n",
      "Collecting amuse\n",
      "  Downloading amuse-12.1.3.post1.tar.gz (11 kB)\n",
      "  Installing build dependencies ... \u001b[?25l|^C\n",
      "\u001b[?25canceled\n",
      "\u001b[31mERROR: Operation cancelled by user\u001b[0m\n"
     ]
    }
   ],
   "source": [
    "!pip install amuse\n",
    "from amuse.ic.kroupa import new_kroupa_mass_distribution\n",
    "\n"
   ]
  },
  {
   "cell_type": "code",
   "execution_count": 3,
   "id": "c182edb2",
   "metadata": {},
   "outputs": [
    {
     "data": {
      "text/plain": [
       "<Figure size 640x480 with 0 Axes>"
      ]
     },
     "metadata": {},
     "output_type": "display_data"
    }
   ],
   "source": [
    "#################################\n",
    "#### FUNCTIONS USED LATER #######\n",
    "#################################\n",
    "columns = ['sur', 'sur2', 't', 'e1','e2','g1','g2','a1','i1','i2','i','spin1h','spintot',\n",
    "           'beta','vp','spin1e','spin1q','spin2e','spin2q','spin2h','htot','m1','R1','m2',\n",
    "           'R2','a2','m3','Roche1','R1','type1','type2','type3','beta2','gamma','gamma2','flag']\n",
    "def get_first_line(file_path): #get first line \n",
    "    with open(file_path) as f:\n",
    "        return f.readline()\n",
    "\n",
    "def get_last_line(file_path): #faster way to get last line\n",
    "    with open(file_path, 'rb') as file:\n",
    "        try:\n",
    "            file.seek(-2, os.SEEK_END)\n",
    "            while file.read(1) != b'\\n':\n",
    "                file.seek(-2, os.SEEK_CUR)\n",
    "        except OSError:\n",
    "            file.seek(0)\n",
    "        last_line = file.readline().decode()\n",
    "        return last_line\n",
    "def maybe_float(s):\n",
    "    try:\n",
    "        return float(s)\n",
    "    except (ValueError, TypeError):\n",
    "        return s\n",
    "\n",
    "def Kepler_3rdLaw_SMA(m1,m2,SMA ): #M_sun and AU units, output in yr\n",
    "    return np.power( ( (SMA**3)/(m1+m2) ) ,1./2.)\n",
    "\n",
    "def Kepler_3rdLaw(P,m1,m2,SMA = 0,output='a'):\n",
    "\n",
    "    '''\n",
    "    Function to get semi-major axis from period using K3L\n",
    "    :param P: Period of orbit in **yr**\n",
    "    :return: returns SMA (a) in **AU**\n",
    "    '''\n",
    "    G = 1.19e-19 #G in AU^3/M_sun*s^2\n",
    "    if output == 'a':\n",
    "        return np.power( ( (P**2)*(m1+m2) ) ,1./3.) #Kepler's Third Law\n",
    "    elif output=='p' or output=='P' : \n",
    "        return np.power( ( (SMA**3)/(m1+m2) ) ,1./2.)\n",
    "def Roche_limit(q):\n",
    "    '''\n",
    "    Function to get Roche Limit of specified mass ratios (q)\n",
    "    :param q: mass ratio\n",
    "    :return: returns the Roche Limit (RHS of Eqn.1 from Naoz+2014)\n",
    "    '''\n",
    "    num1,num2=0.49,0.6;\n",
    "    return num1*np.power(q,2./3.)/(0.6* np.power(q,2./3.)+np.log(1+np.sqrt(q)));\n",
    "def pos_normal(mean, sigma): \n",
    "    '''\n",
    "    Function to get only positive values from normal distribution recursively\n",
    "    '''\n",
    "    x = np.random.normal(mean,sigma)\n",
    "    return(x if x>=0 else pos_normal(mean,sigma))\n",
    "\n",
    "def random_normal_bounds(mean, sigma, lower, upper):\n",
    "    val = np.random.normal(mean,sigma)\n",
    "    if lower<val<upper:\n",
    "        return val\n",
    "    else:\n",
    "        return random_normal_bounds(mean, sigma, upper, lower)\n",
    "\n",
    "def rndm(a, b, g, size=1):\n",
    "    \"\"\"Power-law gen for pdf(x)\\propto x^{g-1} for a<=x<=b\"\"\"\n",
    "    r = np.random.random(size=size)\n",
    "    ag, bg = a**g, b**g\n",
    "    return (ag + (bg - ag)*r)**(1./g) \n",
    " \n",
    "def miller_scalo_IMF(arr,lower=1.0,upper=8.0):\n",
    "\n",
    "    if 0.1<arr<=1: return rndm(0.1,1.0,-0.25)[0]\n",
    "    if 1.<arr<=2.: return rndm(1.0,2.0,-1.00)[0]\n",
    "    if 2.<arr<=10: return rndm(2.0,8.0,-1.30)[0]\n",
    "    if 10<arr<=25: return rndm(10.0,125.0,-2.30)[0]\n",
    "\n",
    "def kroupa_IMF(arr,lower=0.08,upper=8.0):\n",
    "\n",
    "    #if arr<0.08: return rndm(0.1,1.0,0.7)[0]\n",
    "    if 0.08<=arr<0.5: return rndm(0.08,0.5,-0.3)[0]\n",
    "    if 0.5<=arr<8: \n",
    "        if lower > 0.5:\n",
    "            return rndm(lower,upper,-1.30)[0]\n",
    "        else:\n",
    "            return rndm(0.5,upper,-1.30)[0]\n",
    "\n",
    "\n",
    "def sampleFromSalpeter(M_min : int, M_max : int,N :int = 1,alpha : float = 2.35):\n",
    "    \"\"\"Sample from a Salpeter, but can be used for any power law\n",
    "\n",
    "    Args:\n",
    "        M_min (int): lower bound of mass interval\n",
    "        M_max (int): upper bound of mass interval\n",
    "        N (int, optional): number of samples. Defaults to 1.\n",
    "        alpha (float, optional): power-law index. Defaults to 2.35 for Salpeter.\n",
    "\n",
    "    Returns:\n",
    "        float: if you only wanted one sample\n",
    "        list:  if you wanted multiple samples\n",
    "    \"\"\"\n",
    "    \n",
    "    # Convert limits from M to logM.\n",
    "    log_M_Min = math.log(M_min)\n",
    "    log_M_Max = math.log(M_max)\n",
    "    # Since Salpeter SMF decays, maximum likelihood occurs at M_min\n",
    "    maxlik = math.pow(M_min, 1.0 - alpha)\n",
    "\n",
    "    # Prepare array for output masses.\n",
    "    Masses = []\n",
    "    # Fill in array.\n",
    "    while (len(Masses) < N):\n",
    "        # Draw candidate from logM interval.\n",
    "        logM = random.uniform(log_M_Min,log_M_Max)\n",
    "        M    = math.exp(logM)\n",
    "        # Compute likelihood of candidate from Salpeter SMF.\n",
    "        likelihood = math.pow(M, 1.0 - alpha)\n",
    "        # Accept randomly.\n",
    "        u = random.uniform(0.0,maxlik)\n",
    "        if (u < likelihood):\n",
    "            Masses.append(M)\n",
    "            \n",
    "    return Masses if len(Masses) > 1 else Masses[0]\n",
    "\n",
    "# def vectorize_initialize_IMF(IMF_function):\n",
    "#     MS_IMF_gen = np.vectorize(lambda arr: miller_scalo_IMF(arr)) #vectorize the function\n",
    "#     x = np.linspace(1,8,int(1e5))\n",
    "#     MS_IMF_samples = MS_IMF_gen(x)\n",
    "#     n_MS, bins_MS, patches = plt.hist(MS_IMF_samples,bins=500,cumulative=True,density=True,histtype='step') \n",
    "#     plt.clf()\n",
    "#Setup for the MS IMF\n",
    "# MS_IMF_gen = np.vectorize(lambda arr: miller_scalo_IMF(arr)) #vectorize the function\n",
    "# x = np.linspace(1,8,int(1e5))\n",
    "# MS_IMF_samples = MS_IMF_gen(x)\n",
    "# n_MS, bins_MS, patches = plt.hist(MS_IMF_samples,bins=500,cumulative=True,density=True,histtype='step') \n",
    "# plt.clf()\n",
    "\n",
    "Kroupa_IMF_gen1 = np.vectorize(lambda arr: kroupa_IMF(arr,lower=1)) #vectorize the function\n",
    "Kroupa_IMF_gen2 = np.vectorize(lambda arr: kroupa_IMF(arr,lower=0.08)) #vectorize the function\n",
    "x1= np.linspace(1.0,8.0,int(1e6))\n",
    "x2 = np.linspace(0.08,8.0,int(1e6))\n",
    "Kroupa_IMF_samples1 = Kroupa_IMF_gen1(x1)\n",
    "Kroupa_IMF_samples2 = Kroupa_IMF_gen2(x2)\n",
    "\n",
    "n_Kroupa1, bins_Kroupa1, patches1 = plt.hist(Kroupa_IMF_samples1,bins=5000,cumulative=True,density=True,histtype='step') \n",
    "n_Kroupa2, bins_Kroupa2, patches2 = plt.hist(Kroupa_IMF_samples2,bins=5000,cumulative=True,density=True,histtype='step') \n",
    "plt.clf()\n"
   ]
  },
  {
   "cell_type": "code",
   "execution_count": 547,
   "id": "31ed6ca2",
   "metadata": {},
   "outputs": [
    {
     "data": {
      "text/plain": [
       "(array([0.48422438, 0.46781   , 0.44381974, ..., 0.0056819 , 0.00441926,\n",
       "        0.00757587]),\n",
       " array([0.08000302, 0.08158699, 0.08317097, ..., 7.99672502, 7.998309  ,\n",
       "        7.99989298]),\n",
       " [<matplotlib.patches.Polygon at 0x13ded7250>])"
      ]
     },
     "execution_count": 547,
     "metadata": {},
     "output_type": "execute_result"
    },
    {
     "data": {
      "image/png": "[encoded data removed]",
      "text/plain": [
       "<Figure size 640x480 with 1 Axes>"
      ]
     },
     "metadata": {},
     "output_type": "display_data"
    }
   ],
   "source": [
    "plt.hist(Kroupa_IMF_samples2,bins=5000,cumulative=False,density=True,histtype='step') "
   ]
  },
  {
   "cell_type": "code",
   "execution_count": 4,
   "id": "7b660411",
   "metadata": {},
   "outputs": [],
   "source": [
    "def initial_conditions(IMF : str = '1', both_masses : bool = False): \n",
    "    IMF_chosen = IMF\n",
    "    if IMF == '1': \n",
    "        m1=1. #default m1= 1 M_sun\n",
    "    elif IMF == 'Salpeter': \n",
    "        m1 = sampleFromSalpeter(1.00, 8.)  #Salpeter PDF #or 1\n",
    "    elif IMF == 'MS': \n",
    "        m1 = random.choices(bins_MS[:-1], cum_weights = n_MS)[0]\n",
    "    elif IMF == 'Kroupa': \n",
    "        m1 = random.choices(bins_Kroupa1[:-1], cum_weights = n_Kroupa1)[0]\n",
    "    \n",
    "    \n",
    "    q_in,q_out = pos_normal(0.23,0.42),pos_normal(0.23,0.42)\n",
    "\n",
    "    m2 =  random.choices(bins_Kroupa1[:-1], cum_weights = n_Kroupa1)[0]  #q_in * m1        #sampleFromSalpeter(1.00, 8.) \n",
    "    m3 =  random.choices(bins_Kroupa2[:-1], cum_weights = n_Kroupa2)[0]     #q_out*(m1+m2)    #1e-4 #random.choices(bins_Kroupa[:-1], cum_weights = n_Kroupa)[0] #q_out*(m1+m2)\n",
    "    \n",
    "    R1 = m1\n",
    "    R2 = R1*np.power(m2/m1,4./5.)\n",
    "    \n",
    "    spin1P = 25.\n",
    "    spin2P = 25.\n",
    "    \n",
    "    beta = np.random.uniform(0,180)\n",
    "    beta2 = 0.\n",
    "    \n",
    "    gamma = 45.\n",
    "    gamma2 = 45.\n",
    "    \n",
    "    g1 = np.random.uniform(0,360)\n",
    "    g2 = np.random.uniform(0,360)\n",
    "    \n",
    "    age = 12.5*1e3 #*1.e6, means 10*1e9\n",
    "\n",
    "    mu,sigma = 4.8, 2.3 #From Frabycky and Tremaine\n",
    "\n",
    "    P_in,P_out = 10**np.random.normal(mu,sigma), 10**np.random.normal(mu,sigma) #periods in days #10**np.random.normal(4.8,2.3)\n",
    "    P_in,P_out = P_in/365.25, P_out/365.25 #periods in yr\n",
    "    \n",
    "    a1,a2 = Kepler_3rdLaw(P_in,m1,m2), Kepler_3rdLaw(P_out,m1+m2,m3) #10**np.random.normal(mu,sigma), 10**np.random.normal(mu,sigma)        #Kepler_3rdLaw(P_in,m1,m2), 1e6#Kepler_3rdLaw(P_out,m1+m2,m3) #SMA in AU\n",
    "    e1,e2 = np.random.uniform(0,1),np.random.uniform(0,1)\n",
    "\n",
    "    #inclination\n",
    "    cosi = np.random.uniform(np.cos(0),np.cos(np.pi))\n",
    "    i = np.rad2deg(np.arccos(cosi))\n",
    "\n",
    "    Rsun = (695500*6.68459e-9)  #sun radius in AU\n",
    "\n",
    "    # BOOLEANS to check that parameters are **STABLE**\n",
    "    def get_all_criteria(a1,a2,e1,e2,m1=m1,m2=m2,m3=m3,i=i,q_out=q_out):\n",
    "        #stability_criteria from Mardling & Aarseth (2001),**BOOL**\n",
    "        stable = 2.8 * np.power(1.+ q_out,2./5.) * np.power(1.+e2, 2./5.)*np.power(1.-e2, -6./5.)*(1-(0.3*i/180.)) \n",
    "        epsilon = (a1/a2) * e2 / (1-e2**2) #epsilon criterion from Naoz+2014\n",
    "        \n",
    "        Roche1=Roche_limit(m1/m2)\n",
    "        Roche2=Roche_limit(m2/m1)\n",
    "\n",
    "        stability_criteria = (a2/a1) > stable\n",
    "        epsilon_criteria = epsilon < 0.1\n",
    "        Roche1_criteria = R1*Rsun < (a1*(1-e1)*Roche1)\n",
    "        Roche2_criteria = R2*Rsun < (a1*(1-e1)*Roche2)\n",
    "        mass_criteria =  True #m1>0 and m2>0 and m3>0 #this condition should already be met bc pos_normal function\n",
    "        \n",
    "        all_criteria = (stability_criteria and mass_criteria and epsilon_criteria and (Roche1_criteria and Roche2_criteria) )\n",
    "        \n",
    "        return all_criteria\n",
    "\n",
    "    criteria = get_all_criteria(a1,a2,e1,e2,m1=m1,m2=m2,m3=m3,i=i,q_out=q_out)\n",
    "    # want to keep sampling a1 until criteria are met\n",
    "    n=0\n",
    "    while not criteria and n < 100:\n",
    "        n+=1\n",
    "        a1 = 10**random_normal_bounds(mu,sigma,-2,6)\n",
    "        criteria = get_all_criteria(a1,a2,e1,e2,m1=m1,m2=m2,m3=m3,i=i,q_out=q_out) #get criteria with new a\n",
    "    # recurse if criteria are not met until criteria are met\n",
    "    if criteria:\n",
    "        params = np.array([m1,m2,m3,R1,R2,spin1P,spin2P,beta,beta2,gamma,gamma2,a1,a2,e1,e2,g1,g2,i,age])\n",
    "        return params\n",
    "    else:\n",
    "        return initial_conditions(IMF = IMF_chosen)\n",
    "    "
   ]
  },
  {
   "cell_type": "code",
   "execution_count": 506,
   "id": "c31a7965",
   "metadata": {},
   "outputs": [
    {
     "name": "stdout",
     "output_type": "stream",
     "text": [
      "mean: 2.3 \n",
      " SD: 2.0\n"
     ]
    },
    {
     "data": {
      "image/png": "[encoded data removed]",
      "text/plain": [
       "<Figure size 700x700 with 1 Axes>"
      ]
     },
     "metadata": {},
     "output_type": "display_data"
    }
   ],
   "source": [
    "from scipy.stats import norm\n",
    "import matplotlib.mlab as mlab\n",
    "\n",
    "m1s,m2s,m3s,a1s,a2s = [],[],[],[],[]\n",
    "for _ in range(1000):\n",
    "    m1,m2,m3,R1,R2,spin1P,spin2P,beta,beta2,gamma,gamma2,a1,a2,e1,e2,g1,g2,i,age = initial_conditions(IMF = '1')\n",
    "    m1s.append(m1),m2s.append(m2),m3s.append(m3)\n",
    "    a1s.append(a1),a2s.append(a2)\n",
    "\n",
    "\n",
    "# add a 'best fit' line\n",
    "\n",
    "\n",
    "fig,(ax2) = plt.subplots(figsize=(7,7))\n",
    "#ax1.hist(m1s,color='b',label='m1', histtype='step',linewidth=1.5,density=True)\n",
    "# ax1.axvline(1,color='b')\n",
    "# ax1.hist(m2s,color='r',label='m2', histtype='step',linewidth=1.5,density=True)\n",
    "\n",
    "y1 = a1s#Kepler_3rdLaw_SMA( np.array(m1s), np.array(m2s), np.array(a1s)) #Periods\n",
    "y2 = a2s#Kepler_3rdLaw_SMA( np.array(m1s) + np.array(m2s), np.array(m3s), np.array(a2s)) #Periods\n",
    "\n",
    "ax2.hist(np.log10(y1),color='b',label='a1', histtype='step',linewidth=1.5,density=True,bins=30)\n",
    "ax2.hist(np.log10(y2),color='r',label='a2', histtype='step',linewidth=1.5,density=True,bins=30)\n",
    "\n",
    "(mu, sigma) = 2.3, 2.0  #norm.fit(np.log10(y2))\n",
    "x = np.linspace(-2,6,1000)\n",
    "\n",
    "ax2.plot(x, norm.pdf(x, mu, sigma), 'g--', linewidth=2,label='Gaussian Fit\\nfrom Binaries')\n",
    "print(f\"mean: {mu} \\n SD: {sigma}\")\n",
    "\n",
    "# ax1.set_xlabel('Mass'), ax1.set_ylabel('Density')\n",
    "ax2.set_xlabel('log(a) [AU]',fontsize=25), ax2.set_ylabel('Density',fontsize=25)\n",
    "\n",
    "ax2.legend(fontsize=13,loc=1)\n",
    "\n",
    "plt.show()"
   ]
  },
  {
   "cell_type": "code",
   "execution_count": 5,
   "id": "2bcb7822",
   "metadata": {},
   "outputs": [],
   "source": [
    "#############################################\n",
    "##### FUNCTIONs THAT CREATES triple.in's #####\n",
    "#############################################\n",
    "\n",
    "#OSPE FLAGS; 0 (yes) 1 (no)\n",
    "quadrupole = 0\n",
    "octupole = 0\n",
    "GR = 0\n",
    "TF = 0\n",
    "ML1 = 0\n",
    "MB1 = 0\n",
    "ML2 = 0\n",
    "MB2 = 0\n",
    "ML3 = 0\n",
    "SSE1 = 0\n",
    "SSE2 = 0\n",
    "SSE3 = 0\n",
    "tMSMyr = 0\n",
    "\n",
    "# ==========================================================================\n",
    "\n",
    "def create_file(initial_conditions, file_dir, file_end, eps = 1e-16, restart=False):\n",
    "    \"\"\"\n",
    "    Function to create a triple.in file with input initial conditions\n",
    "    :param initial_conditions: array of initial conditions from generate_inicon\n",
    "    :param file_dir: directory to store triple.in files in\n",
    "    :param file_end: file suffix (i.e. '1' to write triple.in1)\n",
    "    :param start_time: system age to start simulations on\n",
    "    :param restart: flag set to True if code is being re-started on Hoffman\n",
    "    :return: writes a triple.inX file and saves to file_dir\n",
    "    \"\"\"\n",
    "    # open new file\n",
    "    filename = file_dir + '/' + 'triple.in' + file_end\n",
    "    out = open(filename,'w')\n",
    "    \n",
    "    # write header\n",
    "    out.write(\"#########################################################################\\n\")\n",
    "    out.write(\"## Read in the initial orbital parameters of the triple system         ##\\n\")\n",
    "    out.write(\"## Mass in M_sol, semimajor axis in AU                                 ##\\n\")\n",
    "    out.write(\"#########################################################################\\n\")\n",
    "    out.write(\"\\n\")\n",
    "    \n",
    "    if restart==False:\n",
    "        out.write(\"__m1_______m2___________m3________R1(Rsun)____R2(Rsun)____Spin1P(day)__Spin2P(day)_ _beta(s_O_deg)__beta2(s_O_deg)__gamma(s_O_deg)__gamma2(s_O_deg)__a1______a2____e1____e2____g1(deg)__g2(deg)__i(deg)__age(Myr)___ :::\\n\")\n",
    "    \n",
    "    elif restart==True:\n",
    "        out.write(\"__m1_______m2___________m3________R1(Rsun)____R2(Rsun)____Spin1P(day)__Spin2P(day)_    _beta(s_O_deg)__beta2(s_O_deg)__gamma(s_O_deg)__gamma2(s_O_deg)__a1______a2____e1____e2____g1(deg)__g2(deg)__i(deg)__t_i(yr)__age(Myr)___ :::\\n\")\n",
    "        \n",
    "    out.write(\"\\n\")\n",
    "    \n",
    "    # add initial conditions\n",
    "    out.write('  '.join([str(i) for i in initial_conditions])+'\\n')\n",
    "    \n",
    "    # add header for flags\n",
    "    out.write(\"\\n\")\n",
    "    out.write(\"#########################################################################\\n\")\n",
    "    out.write(\"## Flags                                                               ##\\n\")\n",
    "    \n",
    "    # quadrupole\n",
    "    out.write(\"#########################################################################\\n\")\n",
    "    out.write(\"\\n\")\n",
    "    out.write(\"__QUADRUPOLE(0_yes_1_no)___ :::\\n\")\n",
    "    out.write(str(quadrupole)+'\\n') # for quadrupole?\n",
    "    out.write(\"\\n\")\n",
    "    \n",
    "    # octupole\n",
    "    out.write(\"#########################################################################\\n\")\n",
    "    out.write(\"__OCTUPOLE(0_yes_1_no)___ :::\\n\")\n",
    "    out.write(\"\\n\")\n",
    "    out.write(str(octupole)+'\\n') # for octupole?\n",
    "    out.write(\"\\n\")\n",
    "    \n",
    "    # GR\n",
    "    out.write(\"#########################################################################\\n\")\n",
    "    out.write(\"__GR(0_yes_1_no)___ :::\\n\")\n",
    "    out.write(\"\\n\")\n",
    "    out.write(str(GR)+'\\n') # for GR?\n",
    "    out.write(\"\\n\")\n",
    "    \n",
    "    # tidal forces\n",
    "    out.write(\"#########################################################################\\n\")\n",
    "    out.write(\"__TF(0_yes_1_no)___ :::\\n\")\n",
    "    out.write(\"\\n\")\n",
    "    out.write(str(TF)+'\\n') #for TF?\n",
    "    out.write(\"\\n\")\n",
    "    \n",
    "    out.write(\"########################################################################\\n\")\n",
    "    out.write(\"__ML1(0_yes_1_no)___ :::\\n\")\n",
    "    out.write(\"\\n\")\n",
    "    out.write(str(ML1)+'\\n') # for ML1?\n",
    "    out.write(\"\\n\")\n",
    "    \n",
    "    out.write(\"########################################################################\\n\")\n",
    "    out.write(\"__MB1(0_yes_1_no)___ :::\\n\")\n",
    "    out.write(\"\\n\")\n",
    "    out.write(str(MB1)+'\\n') # for MB1?\n",
    "    out.write(\"\\n\")\n",
    "    \n",
    "    out.write(\"########################################################################\\n\")\n",
    "    out.write(\"__ML2(0_yes_1_no)___ :::\\n\")\n",
    "    out.write(\"\\n\")\n",
    "    out.write(str(ML2)+'\\n') # for ML2?\n",
    "    out.write(\"\\n\")\n",
    "    \n",
    "    out.write(\"########################################################################\\n\")\n",
    "    out.write(\"__MB2(0_yes_1_no)___ :::\\n\")\n",
    "    out.write(\"\\n\")\n",
    "    out.write(str(MB2)+'\\n') # for MB2?\n",
    "    out.write(\"\\n\")\n",
    "    \n",
    "    out.write(\"########################################################################\\n\")\n",
    "    out.write(\"__ML3(0_yes_1_no)___ :::\\n\")\n",
    "    out.write(\"\\n\")\n",
    "    out.write(str(ML3)+'\\n') # for ML3?\n",
    "    out.write(\"\\n\")\n",
    "    \n",
    "    out.write(\"########################################################################\\n\")\n",
    "    out.write(\"__SSE1(0_yes_1_no)___ :::\\n\")\n",
    "    out.write(\"\\n\")\n",
    "    out.write(str(SSE1)+'\\n') # for SSE1?\n",
    "    out.write(\"\\n\")\n",
    "    \n",
    "    out.write(\"########################################################################\\n\")\n",
    "    out.write(\"__SSE2(0_yes_1_no)___ :::\\n\")\n",
    "    out.write(\"\\n\")\n",
    "    out.write(str(SSE2)+'\\n') # for SSE2?\n",
    "    out.write(\"\\n\")\n",
    "    \n",
    "    out.write(\"########################################################################\\n\")\n",
    "    out.write(\"__SSE3(0_yes_1_no)___ :::\\n\")\n",
    "    out.write(\"\\n\")\n",
    "    out.write(str(SSE3)+'\\n') # for SSE3?\n",
    "    out.write(\"\\n\")\n",
    "    \n",
    "    out.write(\"########################################################################\\n\")\n",
    "    out.write(\"__tMSMyr(0_yes_1_no)___ :::\\n\")\n",
    "    out.write(\"\\n\")\n",
    "    out.write(str(tMSMyr)+'\\n') # for tMSMyr?\n",
    "    out.write(\"\\n\")\n",
    "    \n",
    "    # add control parameters section\n",
    "    out.write(\"#########################################################################\\n\")\n",
    "    out.write(\"## Control Parameters                                                  ##\\n\")\n",
    "    out.write(\"#########################################################################\\n\")\n",
    "    out.write(\"\\n\")\n",
    "    out.write(\"__eps___ :::\\n\")\n",
    "    out.write(str(eps)+\"\\n\")\n",
    " #   out.write(\"1e-16\\n\")\n",
    "    \n",
    "    out.close()\n",
    "\n",
    "    \n",
    "############################################################\n",
    "##### FUNCTION THAT CREATES N triple.in's TO DIRECTORY #####\n",
    "############################################################\n",
    "def generate_set_of_files(n, file_dir, start = 1, IMF = '1', both_masses=False):\n",
    "    \"\"\"\n",
    "    Creates a set of triple.in files by iteratively running create_file()\n",
    "    :param n: number of triple.in files to generate (will create triple.in1-n)\n",
    "    :param file_dir: directory to store triple.in files in\n",
    "    :return: writes a n triple.inX file and saves to file_dir\n",
    "    \"\"\"\n",
    "    # for j in range(start,start+n+1):\n",
    "    #     inicons = initial_conditions()\n",
    "    #     file_end = str(j)\n",
    "    #     print(initial_conditions)\n",
    "    #     create_file(inicons, file_dir,file_end)\n",
    "    this_IMF = IMF\n",
    "    n_files = start\n",
    "    n_max = start + n\n",
    "    for_both = both_masses\n",
    "    while n_files < n_max:\n",
    "        inicons = initial_conditions(IMF = this_IMF,both_masses=for_both)\n",
    "        \n",
    "        file_end = str(n_files)\n",
    "        create_file(inicons, file_dir, file_end)\n",
    "        n_files += 1"
   ]
  },
  {
   "cell_type": "code",
   "execution_count": 560,
   "id": "a437e0fe",
   "metadata": {},
   "outputs": [],
   "source": [
    "# ==========================================================================\n",
    "# RUNNING THE ABOVE FUNCTIONS TO GENERATE FILES \n",
    "a = input('Are you sure that you want to continue? [y/n]: ')\n",
    "if a == 'y' or a == 'Y':\n",
    "    n=1000\n",
    "    file_dir='/Users/bijan1339/Desktop/Research/ICs/'\n",
    "    generate_set_of_files(n,file_dir,start=1000, IMF = 'Kroupa', both_masses=True)"
   ]
  },
  {
   "cell_type": "code",
   "execution_count": 276,
   "id": "52532f68",
   "metadata": {},
   "outputs": [],
   "source": [
    "file_path = '/Users/bijan1339/Desktop/Research/Final_Output6/output_6419.txt'\n",
    "with open(file_path) as f:\n",
    "        lines = f.readlines()[0:-5]"
   ]
  },
  {
   "cell_type": "code",
   "execution_count": 6,
   "id": "96a1b850",
   "metadata": {},
   "outputs": [],
   "source": [
    "#iterate through triple.in path and store parameters\n",
    "triple_dir = '/Users/bijan1339/Desktop/Research/ICs/'\n",
    "def get_initial_parameters(start=0,stop=999, triple_dir = '/Users/bijan1339/Desktop/Research/ICs/'):\n",
    "    \n",
    "    m1s,m2s,m3s=[],[],[]\n",
    "    a1s,a2s,e1s,e2s = [],[],[],[]\n",
    "    for filename in sorted(os.listdir(triple_dir)):\n",
    "        this_file = os.path.join(triple_dir, filename)\n",
    "        if filename.split('.')[0] != 'triple': continue\n",
    "                \n",
    "        n=int(filename.split('.in')[-1])\n",
    "        \n",
    "        if not start <= n <= stop: continue\n",
    "        \n",
    "        with open(this_file) as f:\n",
    "                params = f.readlines()[7].split('  ') #params on seventh line of file\n",
    "                params = [maybe_float(x) for x in params]\n",
    "                m1,m2,m3 = params[0:3]\n",
    "                a1,a2,e1,e2 = params[-8:-4]\n",
    "                \n",
    "                # m1,m2,m3 = initial_conditions(IMF='Salpeter')[0:3]\n",
    "                # a1,a2,e1,e2 = initial_conditions(IMF='Salpeter')[-8:-4]\n",
    "        \n",
    "                m1s.append(m1),m2s.append(m2),m3s.append(m3)\n",
    "                a1s.append(a1),a2s.append(a2),e1s.append(e1),e2s.append(e2)\n",
    "                        \n",
    "    return m1s,m2s,m3s,a1s,a2s,e1s,e2s\n",
    "\n"
   ]
  },
  {
   "cell_type": "code",
   "execution_count": 557,
   "id": "80d166be",
   "metadata": {},
   "outputs": [
    {
     "name": "stderr",
     "output_type": "stream",
     "text": [
      "No artists with labels found to put in legend.  Note that artists whose label start with an underscore are ignored when legend() is called with no argument.\n"
     ]
    },
    {
     "data": {
      "image/png": "[encoded data removed]",
      "text/plain": [
       "<Figure size 1800x900 with 4 Axes>"
      ]
     },
     "metadata": {},
     "output_type": "display_data"
    }
   ],
   "source": [
    "def get_log_bins(arr,n_bins=10):\n",
    "    return np.logspace( np.log10(np.min(arr)),np.log10(np.max(arr)), n_bins,base=10)\n",
    "\n",
    "#m1s,m2s,m3s,a1s,a2s,e1s,e2s = get_initial_parameters(start=0,stop=999, triple_dir = '/Users/bijan1339/Desktop/Research/ICs/')\n",
    "m1s,m2s,m3s=[],[],[]\n",
    "a1s,a2s=[],[]\n",
    "e1s,e2s=[],[]\n",
    "for _ in range(1000):\n",
    "    m1,m2,m3,R1,R2,spin1P,spin2P,beta,beta2,gamma,gamma2,a1,a2,e1,e2,g1,g2,i,age = initial_conditions(IMF='Kroupa')\n",
    "    m1s.append(m1), m2s.append(m2), m3s.append(m3)\n",
    "    a1s.append(a1), a2s.append(a2)\n",
    "    e1s.append(e1), e2s.append(e2)\n",
    "    \n",
    "fig, ((ax1,ax2),(ax3,ax4)) = plt.subplots(nrows=2, ncols=2, figsize=(18, 9))\n",
    "\n",
    "bins_m = np.linspace( np.min(np.concatenate((m1s,m2s,m3s))) , np.max(np.concatenate((m1s,m2s,m3s))) ,  50)\n",
    "bins_a1 = get_log_bins(a1s,n_bins=40)\n",
    "bins_a2 = get_log_bins(a2s,n_bins=40)\n",
    "\n",
    "kwargs_hist = {'histtype' :'step','linewidth':1.5,'density':False}\n",
    "c1, c2, c3,c4 = 'blueviolet','deepskyblue','salmon','limegreen'\n",
    "\n",
    "\n",
    "ax1.hist(m1s,color=c1,label='m1',bins=bins_m,**kwargs_hist)\n",
    "ax1.hist(m2s,color=c4,label='m2',bins=bins_m,linestyle='--', **kwargs_hist)\n",
    "ax1.hist(m3s,color=c3,label='m3',bins=bins_m,linestyle='--', **kwargs_hist)\n",
    "\n",
    "ax2.hist(np.log10(a1s),color=c1,label='a1',bins=20,**kwargs_hist)\n",
    "ax2.hist(np.log10(a2s),color=c4,label='a2',bins=20,**kwargs_hist)\n",
    "\n",
    "ax3.hist(e1s,color=c1,label='e1',**kwargs_hist)\n",
    "ax3.hist(e2s,color=c4,label='e2', **kwargs_hist)\n",
    "\n",
    "ax1.legend(fontsize=15,edgecolor='k'), ax2.legend(fontsize=15,edgecolor='k'), ax3.legend(fontsize=15,edgecolor='k'), ax4.legend(fontsize=15,edgecolor='k')\n",
    "\n",
    "ax1.set_xlabel('M [M$_\\odot$]',fontsize=16),ax2.set_xlabel('a [AU]',fontsize=16), ax3.set_xlabel('e',fontsize=16)\n",
    "ax1.set_ylabel('Density',fontsize=16), ax3.set_ylabel('Density',fontsize=16)\n",
    "#ax1.axvline(1.,color='k')\n",
    "\n",
    "#ax2.set_xscale('log')\n",
    "ax2.set_xticks([-2,-1,0,1,2,3,4,5,6,7],['0.01','0.1', '1','10','100','10$^3$','10$^4$','10$^5$','10$^6$','10$^7$'])\n",
    "plt.show()\n",
    "\n",
    "## Run with new restrictions on initial SMA\n",
    "## 450 for 1T and 450 for KT"
   ]
  },
  {
   "cell_type": "code",
   "execution_count": 151,
   "id": "80694b47",
   "metadata": {},
   "outputs": [],
   "source": [
    "k = sampleFromSalpeter(100000, 2.35, 0.08, 8.)"
   ]
  },
  {
   "cell_type": "code",
   "execution_count": 154,
   "id": "24ac98cf",
   "metadata": {},
   "outputs": [
    {
     "data": {
      "text/plain": [
       "(0.0, 2.0)"
      ]
     },
     "execution_count": 154,
     "metadata": {},
     "output_type": "execute_result"
    },
    {
     "data": {
      "image/png": "[encoded data removed]",
      "text/plain": [
       "<Figure size 640x480 with 1 Axes>"
      ]
     },
     "metadata": {},
     "output_type": "display_data"
    }
   ],
   "source": [
    "x = np.linspace(0.08,8.,10000)\n",
    "N=0.05\n",
    "y = N*x**-2.35\n",
    "plt.plot(x,y)\n",
    "plt.hist(k,bins=300,density=True)\n",
    "plt.xlim(0,4)\n",
    "plt.ylim(0,2)"
   ]
  },
  {
   "cell_type": "code",
   "execution_count": 343,
   "id": "def80dc2",
   "metadata": {},
   "outputs": [],
   "source": [
    "with open('/Users/bijan1339/Desktop/Research/zneed_to_del.txt') as f:\n",
    "        lines = f.readlines()\n",
    "nums=[]\n",
    "for l in lines:\n",
    "        nums.append( l.split(\" \")[3] )\n",
    "        "
   ]
  },
  {
   "cell_type": "code",
   "execution_count": 344,
   "id": "9f0f3eb2",
   "metadata": {},
   "outputs": [
    {
     "name": "stdout",
     "output_type": "stream",
     "text": [
      "5926425 5926426 5926427 5926428 5926429 5926430 5926432 5926433 5926434 5926436 5926437 5926438 5926439 5926440 5926441 5926442 5926443 5926444 5926445 5926446 5926447 5926448 5926449 5926450 5926451 5926452 5926453 5926454 5926455 5926456 5926457 5926458 5926459 5926460 5926461 5926462 5926463 5926464 5926466 5926467 5926468 5926470 5926473 5926474 5926475 5926476 5926477 5926478 5926479 5926480 5926481 5926482 5926483 5926484 5926485 5926486 5926487 5926488 5926489 5926490 5926491 5926492 5926493 5926494 5926495 5926496 5926497 5926498 5926499 5926500 5926501 5926502 5926504 5926506 5926507 5926508 5926509 5926510 5926511 5926512 5926513 5926514 5926515 5926516 5926517 5926518 5926519 5926520 5926521 5926522 5926523 5926524 5926525 5926526 5926527 5926528 5926529 5926530 5926531 5926532 5926533 5926535 5926536 5926538 5926540 5926541 5926542 5926543 5926544 5926545 5926546 5926547 5926548\n"
     ]
    }
   ],
   "source": [
    "print( ' '.join(nums) )"
   ]
  },
  {
   "cell_type": "code",
   "execution_count": 274,
   "id": "9d79f1dc",
   "metadata": {},
   "outputs": [
    {
     "data": {
      "text/plain": [
       "<matplotlib.legend.Legend at 0x130198be0>"
      ]
     },
     "execution_count": 274,
     "metadata": {},
     "output_type": "execute_result"
    },
    {
     "data": {
      "image/png": "[encoded data removed]",
      "text/plain": [
       "<Figure size 640x480 with 1 Axes>"
      ]
     },
     "metadata": {},
     "output_type": "display_data"
    }
   ],
   "source": [
    "#SALPETER IMF\n",
    "c=[]\n",
    "MS=[]\n",
    "x = np.linspace(1,8,10000)\n",
    "MS_IMF_samples = MS_IMF_gen(x)\n",
    "y= 1.4*x**-2.35\n",
    "for i in range(10000):\n",
    "    c.append(rndm(1.0,8.0,-1.35)[0])\n",
    "    \n",
    "plt.hist(c,histtype='step',bins=200,linewidth=1.7,density=True,label = 'Salpeter')\n",
    "plt.hist(MS_IMF_samples,histtype='step',density=True,bins=200,linewidth=1.5,color='limegreen',label='Miller & Scalo')\n",
    "\n",
    "#plt.plot(x,y,c='r')\n",
    "plt.xlabel('Mass [M$_{\\odot}$]')\n",
    "plt.legend(edgecolor='k',fontsize=12,ncol=2)\n"
   ]
  },
  {
   "cell_type": "code",
   "execution_count": 254,
   "id": "4fb20e5a",
   "metadata": {},
   "outputs": [
    {
     "data": {
      "image/png": "[encoded data removed]",
      "text/plain": [
       "<Figure size 640x480 with 1 Axes>"
      ]
     },
     "metadata": {},
     "output_type": "display_data"
    }
   ],
   "source": [
    "n, bins, patches = plt.hist(MS_IMF_samples,bins=200,cumulative=True,density=True,histtype='step')\n",
    "\n",
    "import random\n",
    "x = [random.choices(bins[:-1], cum_weights = n)[0] for x in range(10000)]\n",
    "\n",
    "plt.hist(x,cumulative=True,histtype='step',density=True,bins=100)\n",
    "plt.show()\n"
   ]
  },
  {
   "attachments": {},
   "cell_type": "markdown",
   "id": "123a4825",
   "metadata": {},
   "source": [
    "# Make Restart Input Files"
   ]
  },
  {
   "cell_type": "code",
   "execution_count": 267,
   "id": "cd5eb932",
   "metadata": {},
   "outputs": [],
   "source": [
    "columns = ['sur', 'sur2', 't', 'e1','e2','g1','g2','a1','i1','i2','i','spin1h','spintot',\n",
    "           'beta','vp','spin1e','spin1q','spin2e','spin2q','spin2h','htot','m1','R1','m2',\n",
    "           'R2','a2','m3','Roche1','R1','type1','type2','type3','beta2','gamma','gamma2','flag']\n",
    "\n",
    "\n",
    "AU = 1.496E13       # astronomical unit, cm \n",
    "Rsun = 6.96e10    # radius of sun, cm \n",
    "pi = np.pi          # pi, \n",
    "\n",
    "\n",
    "inicon_dir = '/Users/bijan1339/Desktop/Research/ICs/' #directory of where triple.in's are\n",
    "zero_dir = '/Users/bijan1339/Desktop/Research/ICs_Zero/' #for files that didn't start (t=0 or filesize=0), just need to rerun these, no restart\n",
    "restart_inicon_dir = '/Users/bijan1339/Desktop/Research/ICs_restart' #where to put new restart triple.in's \n",
    "\n",
    "#CHANGE THESE\n",
    "outputs_directory = '/Users/bijan1339/Desktop/Research/Final_Output8/' #'/Users/bijan1339/Desktop/Research/Outputs/'\n",
    "start, stop = 8000, 9000\n",
    "\n",
    "#FIND RESTART FILES THAT ARE STILL GOING\n",
    "filename = '/Users/bijan1339/Desktop/Research/StillGoing.txt'\n",
    "with open(filename) as file:\n",
    "    lines = file.readlines()\n",
    "still_going_n = [int(x.split(' ')[5].split('OSPE_')[-1][:-1]) for x in lines]\n",
    "\n",
    "alr_finished_n = []\n",
    "\n",
    "never_started=[]\n",
    "never_started_restart=[]\n",
    "restart_numbers=[]\n",
    "all_n=[]\n",
    "memory_errors=[]\n",
    "cass_n=[]\n",
    "x=0\n",
    "\n",
    "for filename in os.listdir(outputs_directory):\n",
    "    x+=1\n",
    "    needs_restart=False\n",
    "    is_me = False\n",
    "    \n",
    "    n = filename.split('_')[-1].split('.')[0]\n",
    "    if type(maybe_float(n)) is not float:\n",
    "        continue\n",
    "    if (\n",
    "        (filename.endswith('.txt') and filename.startswith('output_') ) and \n",
    "        (start <= int(n) <= stop)\n",
    "        ):\n",
    "        \n",
    "        all_n.append(n)\n",
    "        n = int(n) #output_n.txt\n",
    "        \n",
    "        this_file = os.path.join(outputs_directory, filename) #stores FULL filename\n",
    "\n",
    "        first_line, last_line = get_first_line(this_file).split('\\t'), get_last_line(this_file).split('\\t') #last line\n",
    "        first_line, last_line = [x.strip() for x in first_line], [x.strip() for x in last_line]\n",
    "\n",
    "        if os.stat(this_file).st_size == 0.:\n",
    "            memory_errors.append(n)\n",
    "            is_me = True\n",
    "        elif ( \n",
    "            float(last_line[2]) == 0. and (float(last_line[0]) != 0. and float(last_line[0]) != 4.)\n",
    "              ) : #last condiition is to check if it was a merger\n",
    "                #shutil.copy(source,destination)\n",
    "                shutil.copy(inicon_dir+'triple.in'+str(n), \n",
    "                            zero_dir+'triple.in'+str(n) )\n",
    "                never_started.append(n)\n",
    "                if n not in still_going_n: needs_restart = True\n",
    "\n",
    "        if (last_line[-1] != 'END') and (not is_me) and (n not in alr_finished_n):# and float(last_line[2]) <=1e10:# and ( (float(last_line[0]) != 0.) or (float(last_line[0]) != 4.)):\n",
    "            # if e1 > 0.05 and a1 > 0.2:\n",
    "            #     restart_numbers.append(n)\n",
    "            # read in parameters from output file\n",
    "            ip, fp = [maybe_float(y) for y in first_line], [maybe_float(y) for y in last_line]    \n",
    "\n",
    "            end_time = fp[2] # last time printout of simulation\n",
    "            \n",
    "            total_age = 12.5e9\n",
    "            age = total_age/1e6 #(total_age-end_time)/1e6 # rest of time simulation needs to run to\n",
    "            e1,e2,a1,i,beta = fp[3], fp[4], fp[7], fp[10],fp[13]\n",
    "            g1, g2 = np.rad2deg(fp[5]), np.rad2deg(fp[6])\n",
    "            m1,m2,a2,m3 = ip[21],ip[23],fp[25],ip[26] #taking the INITIAL, initial masses\n",
    "            R1, R2 = fp[22]*AU/Rsun, fp[24]*AU/Rsun # convert from AU to Rsun\n",
    "            beta2,gamma,gamma2 = fp[32], fp[33],fp[34]\n",
    "            P_out = Kepler_3rdLaw_SMA(m1+m2,m3,a2 )  # in yr \n",
    "            time_remain = total_age - end_time\n",
    "            # compute spins from output\n",
    "            spin1h, spin1e, spin1q = fp[11], fp[15], fp[16]\n",
    "            spin2h, spin2e, spin2q = fp[19], fp[17], fp[18]\n",
    "            spin1P_radyr = np.sqrt(spin1h**2.+spin1e**2.+spin1q**2.)\n",
    "            spin2P_radyr = np.sqrt(spin2h**2.+spin2e**2.+spin2q**2.)\n",
    "            spin1P = 2.*pi*365.25/spin1P_radyr\n",
    "            spin2P = 2.*pi*365.25/spin2P_radyr\n",
    "\n",
    "            final_conditions = np.array([m1,m2,m3,R1,R2,spin1P,spin2P,beta,beta2,gamma,gamma2,a1,a2,e1,e2,g1,g2,i,end_time,age])\n",
    "            if (e1 > 0.05) and (a1 > 0.2) and (P_out < time_remain):\n",
    "                restart_numbers.append(n)\n",
    "                create_file(final_conditions, restart_inicon_dir, str(n), restart=True) #create the restart triple.in file\n",
    "\n",
    "        # else: \n",
    "        #     if int(last_line[0]) == 7: cass_n.append(int(n))\n",
    "    "
   ]
  },
  {
   "cell_type": "code",
   "execution_count": 179,
   "id": "8d450759",
   "metadata": {},
   "outputs": [
    {
     "data": {
      "text/plain": [
       "12411171432.317968"
      ]
     },
     "execution_count": 179,
     "metadata": {},
     "output_type": "execute_result"
    }
   ],
   "source": [
    "time_remain"
   ]
  },
  {
   "cell_type": "code",
   "execution_count": 271,
   "id": "dc0b9e3d",
   "metadata": {},
   "outputs": [
    {
     "name": "stdout",
     "output_type": "stream",
     "text": [
      "[8010, 8020, 8028, 8034, 8049, 8057, 8080, 8084, 8088, 8093, 8100, 8105, 8107, 8109, 8119, 8125, 8131, 8132, 8134, 8136, 8140, 8159, 8170, 8175, 8180, 8187, 8188, 8202, 8203, 8206, 8210, 8211, 8224, 8225, 8232, 8234, 8239, 8246, 8260, 8264, 8267, 8268, 8269, 8283, 8295, 8306, 8309, 8319, 8339, 8344, 8346, 8348, 8351, 8364, 8367, 8394, 8403, 8415, 8416, 8417, 8432, 8437, 8439, 8442, 8443, 8444, 8445, 8448, 8451, 8452, 8456, 8494, 8501, 8504, 8507, 8509, 8513, 8528, 8529, 8536, 8545, 8546, 8547, 8593, 8597, 8601, 8650, 8673, 8690, 8697, 8716, 8717, 8723, 8725, 8738, 8740, 8752, 8755, 8760, 8767, 8768, 8769, 8770, 8778, 8793, 8797, 8813, 8817, 8842, 8848, 8854, 8863, 8867, 8874, 8878, 8893, 8900, 8909, 8911, 8928, 8929, 8933, 8938, 8939, 8949, 8957, 8967, 8968, 8979, 8981, 8983, 8989, 8992, 8993, 8994, 8999]\n"
     ]
    }
   ],
   "source": [
    "print(sorted(restart_numbers)[:])"
   ]
  },
  {
   "attachments": {},
   "cell_type": "markdown",
   "id": "588c5b1e",
   "metadata": {},
   "source": [
    "# \n",
    "    - Read in unfinished final dataframes\n",
    "    - Create new triple.in initial files\n",
    "    - Write out list of of new, unfinished dataframes"
   ]
  },
  {
   "cell_type": "code",
   "execution_count": 154,
   "id": "6b10161e",
   "metadata": {},
   "outputs": [
    {
     "data": {
      "text/plain": [
       "'spin1h'"
      ]
     },
     "execution_count": 154,
     "metadata": {},
     "output_type": "execute_result"
    }
   ],
   "source": [
    "columns[11]"
   ]
  },
  {
   "cell_type": "code",
   "execution_count": 264,
   "id": "cd5eb932",
   "metadata": {},
   "outputs": [],
   "source": [
    "columns = ['sur', 'sur2', 't', 'e1','e2','g1','g2','a1','i1','i2','i','spin1h','spintot',\n",
    "           'beta','vp','spin1e','spin1q','spin2e','spin2q','spin2h','htot','m1','R1','m2',\n",
    "           'R2','a2','m3','Roche1','R1','type1','type2','type3','beta2','gamma','gamma2','flag']\n",
    "\n",
    "\n",
    "\n",
    "inicon_dir = '/Users/bijan1339/Desktop/Research/ICs/' #directory of where triple.in's are\n",
    "zero_dir = '/Users/bijan1339/Desktop/Research/ICs_Zero/' #for files that didn't start (t=0 or filesize=0), just need to rerun these, no restart\n",
    "restart_inicon_dir = '/Users/bijan1339/Desktop/Research/ICs_restart' #where to put new restart triple.in's \n",
    "#unfinished_finalDFs_dir = '/Users/bijan1339/Desktop/Research/unf_dfs/' #final dfs that need restart, in pickle format\n",
    "\n",
    "#READ in Dfs\n",
    "pickle_PATH = '/Users/bijan1339/Desktop/Research/Dataframes/'\n",
    "needs_RE0_f = pd.read_pickle(pickle_PATH + 'needs_RE0_f.pkl')  \n",
    "needs_RE7_f = pd.read_pickle(pickle_PATH + 'needs_RE7_f.pkl')  \n",
    "needs_RE1_f = pd.read_pickle(pickle_PATH + 'needs_RE1_f.pkl')  \n",
    "needs_RE6_f = pd.read_pickle(pickle_PATH + 'needs_RE6_f.pkl')\n",
    "  \n",
    "needs_RE0_i = pd.read_pickle(pickle_PATH + 'needs_RE0_i.pkl')  \n",
    "needs_RE7_i = pd.read_pickle(pickle_PATH + 'needs_RE7_i.pkl')  \n",
    "needs_RE1_i = pd.read_pickle(pickle_PATH + 'needs_RE1_i.pkl')  \n",
    "needs_RE6_i = pd.read_pickle(pickle_PATH + 'needs_RE6_i.pkl')  \n",
    "\n",
    "#CHANGE THESE\n",
    "outputs_directory = '/Users/bijan1339/Desktop/Research/Final_Output1/' \n",
    "start, stop = 1000, 2000\n",
    "\n",
    "def get_params_for_restart(row,row_initial, outputs_dirNAME = 'Final_Output1' ):\n",
    "    \n",
    "    this_n = row['N']\n",
    "    this_out_dir = f'/Users/bijan1339/Desktop/Research/{outputs_dirNAME}/'\n",
    "\n",
    "    end_time = row['t']\n",
    "\n",
    "    total_age = 12.5e9\n",
    "    age = total_age/1e6 #(total_age-end_time)/1e6 # rest of time simulation needs to run to\n",
    "\n",
    "    e1,e2,a1,i,beta = row['e1'], row['e2'], row['a1'], row['i'], row['beta']\n",
    "    g1, g2 = np.rad2deg(row['g1']), np.rad2deg(row['g2'])\n",
    "\n",
    "    m1,m2,m3 = row_initial['m1'].tolist()[0], row_initial['m2'].tolist()[0], row_initial['m3'].tolist()[0] #taking the INITIAL, initial masses\n",
    "    a2 = row['a2']\n",
    "    R1, R2 = row['R1']*AU/Rsun, row['R2']*AU/Rsun # convert from AU to Rsun\n",
    "\n",
    "    beta2,gamma,gamma2 = row['beta2'], row['gamma'], row['gamma2']\n",
    "\n",
    "    # compute spins from output\n",
    "    spin1h, spin1e, spin1q = row['spin1h'], row['spin1e'], row['spin1q']\n",
    "    spin2h, spin2e, spin2q = row['spin2h'], row['spin2e'], row['spin2q']\n",
    "    spin1P_radyr = np.sqrt(spin1h**2.+spin1e**2.+spin1q**2.)\n",
    "    spin2P_radyr = np.sqrt(spin2h**2.+spin2e**2.+spin2q**2.)\n",
    "    spin1P = 2.*pi*365.25/spin1P_radyr\n",
    "    spin2P = 2.*pi*365.25/spin2P_radyr\n",
    "\n",
    "    return (m1,m2,m3,R1,R2,spin1P,spin2P,beta,beta2,gamma,gamma2,a1,a2,e1,e2,g1,g2,i,end_time,age)\n",
    "    \n",
    "    \n",
    "    \n",
    "def entire_restart(needs_RE_I, needs_RE_F, model_no = '0', create = False,\n",
    "                   restart_inicon_dir = '/Users/bijan1339/Desktop/Research/ICs_restart'):\n",
    "    \n",
    "    restart_numbers=[]\n",
    "    \n",
    "    for i,row in needs_RE_F.iterrows():\n",
    "            \n",
    "        this_N = row['N']\n",
    "        this_initial_row = needs_RE_I[needs_RE_I['N'] == this_N]\n",
    "                \n",
    "        restart_numbers.append(this_N)\n",
    "        \"\"\"\n",
    "        end_time = last['t'].tolist()[0]\n",
    "        \n",
    "        total_age = 12.5e9\n",
    "        age = total_age/1e6 #(total_age-end_time)/1e6 # rest of time simulation needs to run to\n",
    "        \n",
    "        e1,e2,a1,i,beta = last['e1'].tolist()[0], last['e2'].tolist()[0], last['a1'].tolist()[0], last['i'].tolist()[0], last['beta'].tolist()[0]\n",
    "        g1, g2 = np.rad2deg(last['g1'].tolist()[0]), np.rad2deg(last['g2'].tolist()[0])\n",
    "        \n",
    "        m1,m2,m3,a2 = first['m1'].tolist()[0], first['m2'].tolist()[0], first['m3'].tolist()[0], last['a2'].tolist()[0] #taking the INITIAL, initial masses\n",
    "        R1, R2 = last['R1'].tolist()[0]*AU/Rsun, last['R2'].tolist()[0]*AU/Rsun # convert from AU to Rsun\n",
    "        \n",
    "        beta2,gamma,gamma2 = last['beta2'].tolist()[0], last['gamma'].tolist()[0], last['gamma2'].tolist()[0]\n",
    "\n",
    "        # compute spins from output\n",
    "        spin1h, spin1e, spin1q = last['spin1h'].tolist()[0], last['spin1e'].tolist()[0], last['spin1q'].tolist()[0]\n",
    "        spin2h, spin2e, spin2q = last['spin2h'].tolist()[0], last['spin2e'].tolist()[0], last['spin2q'].tolist()[0]\n",
    "        spin1P_radyr = np.sqrt(spin1h**2.+spin1e**2.+spin1q**2.)\n",
    "        spin2P_radyr = np.sqrt(spin2h**2.+spin2e**2.+spin2q**2.)\n",
    "        spin1P = 2.*pi*365.25/spin1P_radyr\n",
    "        spin2P = 2.*pi*365.25/spin2P_radyr\n",
    "        \"\"\"\n",
    "\n",
    "        these_params = get_params_for_restart(row = row,row_initial = this_initial_row, outputs_dirNAME = f'Final_Output{model_no}')\n",
    "        \n",
    "        m1,m2,m3,R1,R2,spin1P,spin2P,beta,beta2,gamma,gamma2,a1,a2,e1,e2,g1,g2,i,end_time,age = these_params\n",
    "        \n",
    "        final_conditions = np.array([m1,m2,m3,R1,R2,spin1P,spin2P,beta,beta2,gamma,gamma2,a1,a2,e1,e2,g1,g2,i,end_time,age])\n",
    "\n",
    "        if create:\n",
    "            create_file(final_conditions, restart_inicon_dir, str(this_N), restart=True) #create the restart triple.in file\n",
    "\n",
    "            \n",
    "    return restart_numbers\n",
    "    "
   ]
  },
  {
   "cell_type": "code",
   "execution_count": 265,
   "id": "5aef6e0c",
   "metadata": {},
   "outputs": [],
   "source": [
    "restart_no0 = entire_restart(needs_RE0_i, needs_RE0_f, model_no = '0', create = True)\n",
    "restart_no7 = entire_restart(needs_RE7_i, needs_RE7_f, model_no = '7', create = True)\n",
    "restart_no1 = entire_restart(needs_RE1_i, needs_RE1_f, model_no = '1', create = True)\n",
    "restart_no6 = entire_restart(needs_RE6_i, needs_RE6_f, model_no = '6', create = True)"
   ]
  },
  {
   "cell_type": "code",
   "execution_count": 266,
   "id": "06fcb081",
   "metadata": {},
   "outputs": [
    {
     "name": "stdout",
     "output_type": "stream",
     "text": [
      "0    : 112\n",
      "7    : 28\n",
      "1    : 74\n",
      "6    : 55\n",
      "Sum  : 269\n",
      "\n",
      "\n",
      "[3, 14, 15, 41, 56, 57, 59, 73, 77, 97, 98, 101, 112, 127, 134, 139, 147, 162, 165, 175, 187, 192, 208, 211, 214, 218, 229, 238, 244, 246, 255, 257, 262, 276, 284, 289, 308, 313, 315, 321, 327, 328, 329, 332, 335, 380, 391, 392, 399, 420, 421, 431, 444, 446, 454, 458, 499, 501, 527, 535, 539, 546, 555, 560, 565, 598, 601, 606, 616, 617, 626, 627, 630, 660, 666, 674, 684, 690, 699, 706, 723, 730, 746, 749, 750, 761, 762, 766, 779, 782, 799, 808, 814, 823, 826, 842, 844, 854, 857, 859, 891, 895, 930, 938, 939, 944, 952, 959, 975, 982, 993, 996]\n",
      "\n",
      "\n",
      "[7033, 7042, 7044, 7056, 7069, 7134, 7140, 7155, 7173, 7214, 7269, 7288, 7306, 7337, 7347, 7366, 7490, 7494, 7549, 7596, 7645, 7679, 7697, 7713, 7762, 7775, 7829, 7953]\n",
      "\n",
      "\n",
      "[1006, 1010, 1028, 1037, 1049, 1051, 1053, 1062, 1083, 1097, 1118, 1119, 1128, 1147, 1150, 1161, 1164, 1179, 1190, 1195, 1203, 1229, 1303, 1309, 1320, 1328, 1338, 1345, 1349, 1374, 1378, 1398, 1452, 1454, 1459, 1467, 1468, 1470, 1474, 1477, 1521, 1523, 1536, 1539, 1579, 1587, 1593, 1598, 1625, 1633, 1640, 1693, 1694, 1725, 1743, 1786, 1807, 1817, 1823, 1839, 1846, 1868, 1878, 1892, 1910, 1934, 1936, 1947, 1953, 1954, 1972, 1979, 1983, 1998]\n",
      "\n",
      "\n",
      "[6021, 6063, 6070, 6090, 6110, 6120, 6155, 6158, 6165, 6197, 6211, 6240, 6255, 6285, 6305, 6334, 6369, 6370, 6375, 6377, 6415, 6418, 6429, 6488, 6493, 6494, 6535, 6552, 6576, 6587, 6607, 6616, 6621, 6631, 6664, 6693, 6717, 6721, 6732, 6755, 6771, 6775, 6776, 6810, 6836, 6839, 6842, 6858, 6867, 6869, 6882, 6888, 6914, 6939, 6944]\n"
     ]
    }
   ],
   "source": [
    "sum_of_all_restarts = len(restart_no0) + len(restart_no7) + len(restart_no1) + len(restart_no6)\n",
    "print(f'0    : {len(restart_no0)}')\n",
    "print(f'7    : {len(restart_no7)}')\n",
    "print(f'1    : {len(restart_no1)}')\n",
    "print(f'6    : {len(restart_no6)}')\n",
    "print(f'Sum  : {sum_of_all_restarts}')\n",
    "print('\\n')\n",
    "\n",
    "print(sorted(restart_no0))\n",
    "print('\\n')\n",
    "print(sorted(restart_no7))\n",
    "print('\\n')\n",
    "print(sorted(restart_no1))\n",
    "print('\\n')\n",
    "print(sorted(restart_no6))"
   ]
  },
  {
   "attachments": {},
   "cell_type": "markdown",
   "id": "8e4b4e5a",
   "metadata": {},
   "source": [
    "# Restart Pipeline:\n",
    "1.  Move Newly restarted files to local /Restart_Output directory (Globus)\n",
    "2.  Concat them with the old files  (OSPE_Analysis)\n",
    "3.  Make all new final df (include COSMIC), and then write unfinished ones to pkl (OSPE_Analysis)\n",
    "4.  Create new triple.in files (OSPE_Setup)\n",
    "5.  Move new triple.in's to SSH (Globus)\n",
    "6.  Change the Restart numbers in perl files and run all 4 Perl Files (SSH)\n"
   ]
  },
  {
   "cell_type": "code",
   "execution_count": null,
   "id": "8f7c0637",
   "metadata": {},
   "outputs": [],
   "source": []
  },
  {
   "cell_type": "code",
   "execution_count": null,
   "id": "d860e272",
   "metadata": {},
   "outputs": [],
   "source": []
  },
  {
   "cell_type": "code",
   "execution_count": 348,
   "id": "1fe6961a",
   "metadata": {},
   "outputs": [],
   "source": [
    "restart_numbers=[]\n",
    "memory_errors=[]\n",
    "never_started=[]\n",
    "other_n=[]\n",
    "x=0\n",
    "outputs_directory = '/Users/bijan1339/Desktop/Research/Final_Output/'\n",
    "for filename in os.listdir(outputs_directory):\n",
    "    x+=1\n",
    "    n = filename.split('_')[-1].split('.')[0]\n",
    "    this_file = os.path.join(outputs_directory, filename)\n",
    "    if type(maybe_float(n)) is not float:\n",
    "        pass\n",
    "    if os.stat(this_file).st_size == 0.:\n",
    "            memory_errors.append(n)\n",
    "    elif (\n",
    "        (filename.endswith('.txt') and filename.startswith('output_') ) and \n",
    "        (7000 <= int(n) <=8000)\n",
    "        ):\n",
    "    \n",
    "        n = int(n) \n",
    "\n",
    "        first_line, last_line = get_first_line(this_file).split('\\t'), get_last_line(this_file).split('\\t') #last line\n",
    "        first_line, last_line = [x.strip() for x in first_line], [x.strip() for x in last_line]\n",
    "        if (\n",
    "            last_line[-1] != 'END' and n not in still_going_n and \n",
    "            ( (float(last_line[0]) != 0.) or (float(last_line[0]) != 4.) ) and \n",
    "            float(last_line[2]) <=1e10\n",
    "           ):\n",
    "            restart_numbers.append(n)\n",
    "            create_file(final_conditions, restart_inicon_dir, str(n), restart=True)\n",
    "            if (\n",
    "            float(last_line[2]) == 0. and (float(last_line[0]) != 0. and float(last_line[0]) != 4.)\n",
    "              ) : \n",
    "                never_started.append(n)\n",
    "        \n",
    "        else: other_n.append(n)\n"
   ]
  },
  {
   "cell_type": "code",
   "execution_count": 352,
   "id": "90a7cc84",
   "metadata": {},
   "outputs": [
    {
     "name": "stdout",
     "output_type": "stream",
     "text": [
      "[7006, 7026, 7034, 7045, 7101, 7148, 7155, 7181, 7223, 7224, 7227, 7278, 7280, 7364, 7386, 7410, 7418, 7420, 7431, 7434, 7495, 7522, 7528, 7573, 7619, 7629, 7633, 7646, 7681, 7705, 7713, 7715, 7735, 7786, 7792, 7840, 7857, 7884, 7900, 7944, 7975]\n"
     ]
    }
   ],
   "source": [
    "print(sorted([int(x) for x in memory_errors]))"
   ]
  },
  {
   "cell_type": "code",
   "execution_count": 267,
   "id": "fcb9a193",
   "metadata": {},
   "outputs": [
    {
     "data": {
      "application/javascript": "\n            setTimeout(function() {\n                var nbb_cell_id = 267;\n                var nbb_unformatted_code = \"# Go through Final_Ouput2 folder, find file with same name in Final_Ouput folder,\\n# If the size of the 2 file is bigger, then move it to Final_Ouput folder.\\n# Else, dont\\n\\noutputs1_directory = '/Users/bijan1339/Desktop/Research/Final_Output/'\\noutputs2_directory = '/Users/bijan1339/Desktop/Research/Final_Output2/'\\n\\ncassini_n = (7001, 7002, 7003, 7004, 7011, 7013, 7015, 7019, 7021, 7023, 7024, 7025, 7036, 7039, 7058, 7059, 7061, 7063, 7064, 7066, 7067, 7068, 7070, 7072, 7075, 7077, 7078, 7084, 7090, 7092, 7093, 7100, 7102, 7103, 7113, 7116, 7117, 7119, 7120, 7122, 7124, 7126, 7129, 7130, 7138, 7143, 7147, 7151, 7156, 7160, 7161, 7162, 7168, 7172, 7177, 7179, 7180, 7186, 7193, 7196, 7200, 7205, 7206, 7207, 7208, 7209, 7210, 7212, 7215, 7219, 7221, 7222, 7231, 7233, 7234, 7236, 7242, 7243, 7256, 7259, 7263, 7266, 7268, 7274, 7276, 7279, 7282, 7284, 7290, 7292, 7293, 7294, 7296, 7300, 7301, 7302, 7304, 7305, 7307, 7308, 7309, 7310, 7311, 7313, 7315, 7316, 7318, 7322, 7325, 7328, 7331, 7336, 7338, 7342, 7344, 7345, 7347, 7352, 7353, 7359, 7365, 7367, 7368, 7370, 7372, 7374, 7376, 7383, 7385, 7387, 7390, 7394, 7397, 7398, 7401, 7406, 7408, 7413, 7413, 7415, 7419, 7422, 7423, 7425, 7427, 7432, 7433, 7437, 7438, 7444, 7445, 7447, 7450, 7454, 7461, 7465, 7466, 7470, 7476, 7477, 7479, 7482, 7486, 7489, 7491, 7493, 7497, 7505, 7508, 7509, 7513, 7514, 7515, 7517, 7519, 7524, 7525, 7527, 7530, 7533, 7535, 7540, 7546, 7548, 7552, 7557, 7560, 7561, 7563, 7564, 7567, 7568, 7569, 7570, 7571, 7575, 7577, 7579, 7580, 7581, 7582, 7588, 7599, 7601, 7607, 7612, 7620, 7625, 7630, 7631, 7632, 7637, 7642, 7643, 7648, 7651, 7653, 7655, 7657, 7658, 7661, 7662, 7667, 7669, 7670, 7672, 7673, 7683, 7684, 7689, 7690, 7695, 7698, 7702, 7703, 7704, 7710, 7714, 7716, 7718, 7723, 7724, 7729, 7730, 7732, 7736, 7737, 7740, 7743, 7746, 7750, 7751, 7756, 7758, 7759, 7763, 7765, 7767, 7772, 7774, 7780, 7788, 7789, 7790, 7791, 7791, 7794, 7794, 7796, 7801, 7805, 7807, 7808, 7810, 7812, 7813, 7815, 7818, 7822, 7823, 7827, 7834, 7843, 7848, 7849, 7851, 7852, 7853, 7856, 7859, 7862, 7868, 7870, 7874, 7875, 7878, 7881, 7883, 7885, 7886, 7889, 7894, 7898, 7901, 7903, 7904, 7905, 7907, 7909, 7912, 7914, 7916, 7918, 7923, 7926, 7927, 7929, 7933, 7945, 7949, 7955, 7956, 7957, 7958, 7960, 7961, 7964, 7966, 7967, 7977, 7978, 7979, 7981, 7982, 7988, 7995, 7998, 7999)\\n\\nfor filename in os.listdir(outputs2_directory):\\n    if filename.startswith('output_'):\\n        n = int(filename.split('_')[-1].split('.')[0])\\n        if n in cassini_n or list(range(7000,8000)):\\n            this_file = outputs2_directory + filename\\n            corresponding_file = outputs1_directory + filename\\n            if os.stat(corresponding_file).st_size < os.stat(this_file).st_size:\\n                try:\\n                    shutil.copy(this_file, outputs1_directory)\\n                except shutil.SameFileError:\\n                    pass\";\n                var nbb_formatted_code = \"# Go through Final_Ouput2 folder, find file with same name in Final_Ouput folder,\\n# If the size of the 2 file is bigger, then move it to Final_Ouput folder.\\n# Else, dont\\n\\noutputs1_directory = \\\"/Users/bijan1339/Desktop/Research/Final_Output/\\\"\\noutputs2_directory = \\\"/Users/bijan1339/Desktop/Research/Final_Output2/\\\"\\n\\ncassini_n = (\\n    7001,\\n    7002,\\n    7003,\\n    7004,\\n    7011,\\n    7013,\\n    7015,\\n    7019,\\n    7021,\\n    7023,\\n    7024,\\n    7025,\\n    7036,\\n    7039,\\n    7058,\\n    7059,\\n    7061,\\n    7063,\\n    7064,\\n    7066,\\n    7067,\\n    7068,\\n    7070,\\n    7072,\\n    7075,\\n    7077,\\n    7078,\\n    7084,\\n    7090,\\n    7092,\\n    7093,\\n    7100,\\n    7102,\\n    7103,\\n    7113,\\n    7116,\\n    7117,\\n    7119,\\n    7120,\\n    7122,\\n    7124,\\n    7126,\\n    7129,\\n    7130,\\n    7138,\\n    7143,\\n    7147,\\n    7151,\\n    7156,\\n    7160,\\n    7161,\\n    7162,\\n    7168,\\n    7172,\\n    7177,\\n    7179,\\n    7180,\\n    7186,\\n    7193,\\n    7196,\\n    7200,\\n    7205,\\n    7206,\\n    7207,\\n    7208,\\n    7209,\\n    7210,\\n    7212,\\n    7215,\\n    7219,\\n    7221,\\n    7222,\\n    7231,\\n    7233,\\n    7234,\\n    7236,\\n    7242,\\n    7243,\\n    7256,\\n    7259,\\n    7263,\\n    7266,\\n    7268,\\n    7274,\\n    7276,\\n    7279,\\n    7282,\\n    7284,\\n    7290,\\n    7292,\\n    7293,\\n    7294,\\n    7296,\\n    7300,\\n    7301,\\n    7302,\\n    7304,\\n    7305,\\n    7307,\\n    7308,\\n    7309,\\n    7310,\\n    7311,\\n    7313,\\n    7315,\\n    7316,\\n    7318,\\n    7322,\\n    7325,\\n    7328,\\n    7331,\\n    7336,\\n    7338,\\n    7342,\\n    7344,\\n    7345,\\n    7347,\\n    7352,\\n    7353,\\n    7359,\\n    7365,\\n    7367,\\n    7368,\\n    7370,\\n    7372,\\n    7374,\\n    7376,\\n    7383,\\n    7385,\\n    7387,\\n    7390,\\n    7394,\\n    7397,\\n    7398,\\n    7401,\\n    7406,\\n    7408,\\n    7413,\\n    7413,\\n    7415,\\n    7419,\\n    7422,\\n    7423,\\n    7425,\\n    7427,\\n    7432,\\n    7433,\\n    7437,\\n    7438,\\n    7444,\\n    7445,\\n    7447,\\n    7450,\\n    7454,\\n    7461,\\n    7465,\\n    7466,\\n    7470,\\n    7476,\\n    7477,\\n    7479,\\n    7482,\\n    7486,\\n    7489,\\n    7491,\\n    7493,\\n    7497,\\n    7505,\\n    7508,\\n    7509,\\n    7513,\\n    7514,\\n    7515,\\n    7517,\\n    7519,\\n    7524,\\n    7525,\\n    7527,\\n    7530,\\n    7533,\\n    7535,\\n    7540,\\n    7546,\\n    7548,\\n    7552,\\n    7557,\\n    7560,\\n    7561,\\n    7563,\\n    7564,\\n    7567,\\n    7568,\\n    7569,\\n    7570,\\n    7571,\\n    7575,\\n    7577,\\n    7579,\\n    7580,\\n    7581,\\n    7582,\\n    7588,\\n    7599,\\n    7601,\\n    7607,\\n    7612,\\n    7620,\\n    7625,\\n    7630,\\n    7631,\\n    7632,\\n    7637,\\n    7642,\\n    7643,\\n    7648,\\n    7651,\\n    7653,\\n    7655,\\n    7657,\\n    7658,\\n    7661,\\n    7662,\\n    7667,\\n    7669,\\n    7670,\\n    7672,\\n    7673,\\n    7683,\\n    7684,\\n    7689,\\n    7690,\\n    7695,\\n    7698,\\n    7702,\\n    7703,\\n    7704,\\n    7710,\\n    7714,\\n    7716,\\n    7718,\\n    7723,\\n    7724,\\n    7729,\\n    7730,\\n    7732,\\n    7736,\\n    7737,\\n    7740,\\n    7743,\\n    7746,\\n    7750,\\n    7751,\\n    7756,\\n    7758,\\n    7759,\\n    7763,\\n    7765,\\n    7767,\\n    7772,\\n    7774,\\n    7780,\\n    7788,\\n    7789,\\n    7790,\\n    7791,\\n    7791,\\n    7794,\\n    7794,\\n    7796,\\n    7801,\\n    7805,\\n    7807,\\n    7808,\\n    7810,\\n    7812,\\n    7813,\\n    7815,\\n    7818,\\n    7822,\\n    7823,\\n    7827,\\n    7834,\\n    7843,\\n    7848,\\n    7849,\\n    7851,\\n    7852,\\n    7853,\\n    7856,\\n    7859,\\n    7862,\\n    7868,\\n    7870,\\n    7874,\\n    7875,\\n    7878,\\n    7881,\\n    7883,\\n    7885,\\n    7886,\\n    7889,\\n    7894,\\n    7898,\\n    7901,\\n    7903,\\n    7904,\\n    7905,\\n    7907,\\n    7909,\\n    7912,\\n    7914,\\n    7916,\\n    7918,\\n    7923,\\n    7926,\\n    7927,\\n    7929,\\n    7933,\\n    7945,\\n    7949,\\n    7955,\\n    7956,\\n    7957,\\n    7958,\\n    7960,\\n    7961,\\n    7964,\\n    7966,\\n    7967,\\n    7977,\\n    7978,\\n    7979,\\n    7981,\\n    7982,\\n    7988,\\n    7995,\\n    7998,\\n    7999,\\n)\\n\\nfor filename in os.listdir(outputs2_directory):\\n    if filename.startswith(\\\"output_\\\"):\\n        n = int(filename.split(\\\"_\\\")[-1].split(\\\".\\\")[0])\\n        if n in cassini_n or list(range(7000, 8000)):\\n            this_file = outputs2_directory + filename\\n            corresponding_file = outputs1_directory + filename\\n            if os.stat(corresponding_file).st_size < os.stat(this_file).st_size:\\n                try:\\n                    shutil.copy(this_file, outputs1_directory)\\n                except shutil.SameFileError:\\n                    pass\";\n                var nbb_cells = Jupyter.notebook.get_cells();\n                for (var i = 0; i < nbb_cells.length; ++i) {\n                    if (nbb_cells[i].input_prompt_number == nbb_cell_id) {\n                        if (nbb_cells[i].get_text() == nbb_unformatted_code) {\n                             nbb_cells[i].set_text(nbb_formatted_code);\n                        }\n                        break;\n                    }\n                }\n            }, 500);\n            ",
      "text/plain": [
       "<IPython.core.display.Javascript object>"
      ]
     },
     "metadata": {},
     "output_type": "display_data"
    }
   ],
   "source": [
    "# Go through Final_Ouput2 folder, find file with same name in Final_Ouput folder,\n",
    "# If the size of the 2 file is bigger, then move it to Final_Ouput folder.\n",
    "# Else, dont\n",
    "\n",
    "outputs1_directory = '/Users/bijan1339/Desktop/Research/Final_Output/'\n",
    "outputs2_directory = '/Users/bijan1339/Desktop/Research/Final_Output2/'\n",
    "\n",
    "cassini_n = (7001, 7002, 7003, 7004, 7011, 7013, 7015, 7019, 7021, 7023, 7024, 7025, 7036, 7039, 7058, 7059, 7061, 7063, 7064, 7066, 7067, 7068, 7070, 7072, 7075, 7077, 7078, 7084, 7090, 7092, 7093, 7100, 7102, 7103, 7113, 7116, 7117, 7119, 7120, 7122, 7124, 7126, 7129, 7130, 7138, 7143, 7147, 7151, 7156, 7160, 7161, 7162, 7168, 7172, 7177, 7179, 7180, 7186, 7193, 7196, 7200, 7205, 7206, 7207, 7208, 7209, 7210, 7212, 7215, 7219, 7221, 7222, 7231, 7233, 7234, 7236, 7242, 7243, 7256, 7259, 7263, 7266, 7268, 7274, 7276, 7279, 7282, 7284, 7290, 7292, 7293, 7294, 7296, 7300, 7301, 7302, 7304, 7305, 7307, 7308, 7309, 7310, 7311, 7313, 7315, 7316, 7318, 7322, 7325, 7328, 7331, 7336, 7338, 7342, 7344, 7345, 7347, 7352, 7353, 7359, 7365, 7367, 7368, 7370, 7372, 7374, 7376, 7383, 7385, 7387, 7390, 7394, 7397, 7398, 7401, 7406, 7408, 7413, 7413, 7415, 7419, 7422, 7423, 7425, 7427, 7432, 7433, 7437, 7438, 7444, 7445, 7447, 7450, 7454, 7461, 7465, 7466, 7470, 7476, 7477, 7479, 7482, 7486, 7489, 7491, 7493, 7497, 7505, 7508, 7509, 7513, 7514, 7515, 7517, 7519, 7524, 7525, 7527, 7530, 7533, 7535, 7540, 7546, 7548, 7552, 7557, 7560, 7561, 7563, 7564, 7567, 7568, 7569, 7570, 7571, 7575, 7577, 7579, 7580, 7581, 7582, 7588, 7599, 7601, 7607, 7612, 7620, 7625, 7630, 7631, 7632, 7637, 7642, 7643, 7648, 7651, 7653, 7655, 7657, 7658, 7661, 7662, 7667, 7669, 7670, 7672, 7673, 7683, 7684, 7689, 7690, 7695, 7698, 7702, 7703, 7704, 7710, 7714, 7716, 7718, 7723, 7724, 7729, 7730, 7732, 7736, 7737, 7740, 7743, 7746, 7750, 7751, 7756, 7758, 7759, 7763, 7765, 7767, 7772, 7774, 7780, 7788, 7789, 7790, 7791, 7791, 7794, 7794, 7796, 7801, 7805, 7807, 7808, 7810, 7812, 7813, 7815, 7818, 7822, 7823, 7827, 7834, 7843, 7848, 7849, 7851, 7852, 7853, 7856, 7859, 7862, 7868, 7870, 7874, 7875, 7878, 7881, 7883, 7885, 7886, 7889, 7894, 7898, 7901, 7903, 7904, 7905, 7907, 7909, 7912, 7914, 7916, 7918, 7923, 7926, 7927, 7929, 7933, 7945, 7949, 7955, 7956, 7957, 7958, 7960, 7961, 7964, 7966, 7967, 7977, 7978, 7979, 7981, 7982, 7988, 7995, 7998, 7999)\n",
    "\n",
    "for filename in os.listdir(outputs2_directory):\n",
    "    if filename.startswith('output_'):\n",
    "        n = int(filename.split('_')[-1].split('.')[0])\n",
    "        if n in cassini_n or list(range(7000,8000)):\n",
    "            this_file = outputs2_directory + filename\n",
    "            corresponding_file = outputs1_directory + filename\n",
    "            if os.stat(corresponding_file).st_size < os.stat(this_file).st_size:\n",
    "                try:\n",
    "                    shutil.copy(this_file, outputs1_directory)\n",
    "                except shutil.SameFileError:\n",
    "                    pass\n"
   ]
  },
  {
   "cell_type": "code",
   "execution_count": 234,
   "id": "431dded0",
   "metadata": {},
   "outputs": [
    {
     "name": "stdout",
     "output_type": "stream",
     "text": [
      "(7031, 7033, 7035, 7042, 7043, 7044, 7048, 7051, 7053, 7056, 7069, 7082, 7085, 7089, 7097, 7125, 7131, 7140, 7150, 7169, 7173, 7174, 7175, 7178, 7182, 7192, 7204, 7211, 7214, 7225, 7229, 7232, 7247, 7272, 7273, 7283, 7286, 7288, 7306, 7320, 7332, 7337, 7348, 7350, 7360, 7361, 7366, 7369, 7377, 7379, 7391, 7393, 7395, 7409, 7412, 7417, 7443, 7451, 7471, 7478, 7480, 7488, 7490, 7494, 7500, 7504, 7521, 7523, 7529, 7549, 7554, 7589, 7590, 7610, 7618, 7626, 7627, 7628, 7645, 7659, 7679, 7691, 7692, 7697, 7719, 7744, 7754, 7761, 7762, 7775, 7779, 7800, 7816, 7824, 7825, 7829, 7837, 7844, 7855, 7869, 7917, 7924, 7936, 7947, 7953, 7959, 7971, 7986, 7996)\n",
      "707 143 109\n",
      "sum: 959\n"
     ]
    },
    {
     "data": {
      "application/javascript": "\n            setTimeout(function() {\n                var nbb_cell_id = 234;\n                var nbb_unformatted_code = \"#print(tuple(sorted(restart_numbers)))\\nprint(tuple(sorted(never_started)))\\nints = list(range(7000,8000))\\nprint(len(all_n),len(restart_numbers),len(never_started))\\nprint(f'sum: {len(all_n)+len(restart_numbers)+len(never_started)}')\";\n                var nbb_formatted_code = \"# print(tuple(sorted(restart_numbers)))\\nprint(tuple(sorted(never_started)))\\nints = list(range(7000, 8000))\\nprint(len(all_n), len(restart_numbers), len(never_started))\\nprint(f\\\"sum: {len(all_n)+len(restart_numbers)+len(never_started)}\\\")\";\n                var nbb_cells = Jupyter.notebook.get_cells();\n                for (var i = 0; i < nbb_cells.length; ++i) {\n                    if (nbb_cells[i].input_prompt_number == nbb_cell_id) {\n                        if (nbb_cells[i].get_text() == nbb_unformatted_code) {\n                             nbb_cells[i].set_text(nbb_formatted_code);\n                        }\n                        break;\n                    }\n                }\n            }, 500);\n            ",
      "text/plain": [
       "<IPython.core.display.Javascript object>"
      ]
     },
     "metadata": {},
     "output_type": "display_data"
    }
   ],
   "source": [
    "#print(tuple(sorted(restart_numbers)))\n",
    "print(tuple(sorted(never_started)))\n",
    "ints = list(range(7000,8000))\n",
    "print(len(all_n),len(restart_numbers),len(never_started))\n",
    "print(f'sum: {len(all_n)+len(restart_numbers)+len(never_started)}')"
   ]
  },
  {
   "attachments": {},
   "cell_type": "markdown",
   "id": "418b1bf1",
   "metadata": {},
   "source": [
    "## Finding Cassini Files (don't need restart)"
   ]
  },
  {
   "cell_type": "code",
   "execution_count": 278,
   "id": "a9390009",
   "metadata": {},
   "outputs": [
    {
     "data": {
      "text/plain": [
       "\"\\n    if (\\n        (os.stat(this_file).st_size != 0.) and (filename.endswith('.txt') and \\n        filename.startswith('output') ) and (1000 <= int(n) <=1400 or 1500 <= int(n) <2000) \\n        ):\\n        \\n        n = int(filename.split('_')[-1].split('.')[0]) #output_n.txt\\n\\n        first_line, last_line = get_first_line(this_file).split('\\t'), get_last_line(this_file).split('\\t') #last line\\n        first_line, last_line = [x.strip() for x in first_line], [x.strip() for x in last_line]\\n        \\n        ip, fp = [maybe_float(y) for y in first_line], [maybe_float(y) for y in last_line]    \\n        \\n        total_age = 12.5e9\\n        age = total_age/1e6 #(total_age-end_time)/1e6 # rest of time simulation needs to run to\\n        e1,e2,a1,i,beta = fp[3], fp[4], fp[7], fp[10],fp[13]\\n        g1, g2 = np.rad2deg(fp[5]), np.rad2deg(fp[6])\\n        m1,m2,a2,m3 = ip[21],ip[23],fp[25],ip[26] #taking the INITIAL, initial masses\\n        R1, R2 = fp[22]*AU/Rsun, fp[24]*AU/Rsun # convert from AU to Rsun\\n        beta2,gamma,gamma2 = fp[32], fp[33],fp[34]\\n        \\n        spin1h, spin1e, spin1q = fp[11], fp[15], fp[16]\\n        spin2h, spin2e, spin2q = fp[19], fp[17], fp[18]\\n        spin1P_radyr = np.sqrt(spin1h**2.+spin1e**2.+spin1q**2.)\\n        spin2P_radyr = np.sqrt(spin2h**2.+spin2e**2.+spin2q**2.)\\n        spin1P = 2.*pi*365.25/spin1P_radyr\\n        spin2P = 2.*pi*365.25/spin2P_radyr\\n        \\n        beta = beta*np.pi/180.\\n        beta2 = beta2*np.pi/180.\\n        P_in = np.sqrt(a1**3 / ( (m1+m2) )  )*365.25\\n        omega_1p = (4*np.pi/P_in ) / (np.cos(beta) + (1/np.cos(beta)) )   \\n        omega_2p = (4*np.pi/P_in ) / (np.cos(beta2) + (1/np.cos(beta2)) ) \\n        omega_1p,omega_2p = 2*np.pi/omega_1p,2*np.pi/omega_2p\\n        if  (0.95*omega_1p < spin1P < 1.05*omega_1p) or (0.95*omega_2p < spin2P < 1.05*omega_2p):\\n            cassini_states.append(n)\\n            cassini_lines.append(fp)\\n\""
      ]
     },
     "execution_count": 278,
     "metadata": {},
     "output_type": "execute_result"
    },
    {
     "data": {
      "application/javascript": "\n            setTimeout(function() {\n                var nbb_cell_id = 278;\n                var nbb_unformatted_code = \"#FIND THOSE THAT REACHED CASSINI STATE TO REMOVE FROM RESTART NUMBERS\\ncassini_states,cassini_lines=[],[]\\noutputs_directory = '/Users/bijan1339/Desktop/Research/Final_Output/'\\nfor filename in os.listdir(outputs_directory):\\n    \\n    this_file = os.path.join(outputs_directory, filename)\\n    n = filename.split('_')[-1].split('.')[0]\\n    if type(maybe_float(n)) == float and int(n) in cass_n:\\n       os.remove(this_file)\\n        \\n\\\"\\\"\\\"\\n    if (\\n        (os.stat(this_file).st_size != 0.) and (filename.endswith('.txt') and \\n        filename.startswith('output') ) and (1000 <= int(n) <=1400 or 1500 <= int(n) <2000) \\n        ):\\n        \\n        n = int(filename.split('_')[-1].split('.')[0]) #output_n.txt\\n\\n        first_line, last_line = get_first_line(this_file).split('\\\\t'), get_last_line(this_file).split('\\\\t') #last line\\n        first_line, last_line = [x.strip() for x in first_line], [x.strip() for x in last_line]\\n        \\n        ip, fp = [maybe_float(y) for y in first_line], [maybe_float(y) for y in last_line]    \\n        \\n        total_age = 12.5e9\\n        age = total_age/1e6 #(total_age-end_time)/1e6 # rest of time simulation needs to run to\\n        e1,e2,a1,i,beta = fp[3], fp[4], fp[7], fp[10],fp[13]\\n        g1, g2 = np.rad2deg(fp[5]), np.rad2deg(fp[6])\\n        m1,m2,a2,m3 = ip[21],ip[23],fp[25],ip[26] #taking the INITIAL, initial masses\\n        R1, R2 = fp[22]*AU/Rsun, fp[24]*AU/Rsun # convert from AU to Rsun\\n        beta2,gamma,gamma2 = fp[32], fp[33],fp[34]\\n        \\n        spin1h, spin1e, spin1q = fp[11], fp[15], fp[16]\\n        spin2h, spin2e, spin2q = fp[19], fp[17], fp[18]\\n        spin1P_radyr = np.sqrt(spin1h**2.+spin1e**2.+spin1q**2.)\\n        spin2P_radyr = np.sqrt(spin2h**2.+spin2e**2.+spin2q**2.)\\n        spin1P = 2.*pi*365.25/spin1P_radyr\\n        spin2P = 2.*pi*365.25/spin2P_radyr\\n        \\n        beta = beta*np.pi/180.\\n        beta2 = beta2*np.pi/180.\\n        P_in = np.sqrt(a1**3 / ( (m1+m2) )  )*365.25\\n        omega_1p = (4*np.pi/P_in ) / (np.cos(beta) + (1/np.cos(beta)) )   \\n        omega_2p = (4*np.pi/P_in ) / (np.cos(beta2) + (1/np.cos(beta2)) ) \\n        omega_1p,omega_2p = 2*np.pi/omega_1p,2*np.pi/omega_2p\\n        if  (0.95*omega_1p < spin1P < 1.05*omega_1p) or (0.95*omega_2p < spin2P < 1.05*omega_2p):\\n            cassini_states.append(n)\\n            cassini_lines.append(fp)\\n\\\"\\\"\\\"\";\n                var nbb_formatted_code = \"# FIND THOSE THAT REACHED CASSINI STATE TO REMOVE FROM RESTART NUMBERS\\ncassini_states, cassini_lines = [], []\\noutputs_directory = \\\"/Users/bijan1339/Desktop/Research/Final_Output/\\\"\\nfor filename in os.listdir(outputs_directory):\\n    this_file = os.path.join(outputs_directory, filename)\\n    n = filename.split(\\\"_\\\")[-1].split(\\\".\\\")[0]\\n    if type(maybe_float(n)) == float and int(n) in cass_n:\\n        os.remove(this_file)\\n\\n\\\"\\\"\\\"\\n    if (\\n        (os.stat(this_file).st_size != 0.) and (filename.endswith('.txt') and \\n        filename.startswith('output') ) and (1000 <= int(n) <=1400 or 1500 <= int(n) <2000) \\n        ):\\n        \\n        n = int(filename.split('_')[-1].split('.')[0]) #output_n.txt\\n\\n        first_line, last_line = get_first_line(this_file).split('\\\\t'), get_last_line(this_file).split('\\\\t') #last line\\n        first_line, last_line = [x.strip() for x in first_line], [x.strip() for x in last_line]\\n        \\n        ip, fp = [maybe_float(y) for y in first_line], [maybe_float(y) for y in last_line]    \\n        \\n        total_age = 12.5e9\\n        age = total_age/1e6 #(total_age-end_time)/1e6 # rest of time simulation needs to run to\\n        e1,e2,a1,i,beta = fp[3], fp[4], fp[7], fp[10],fp[13]\\n        g1, g2 = np.rad2deg(fp[5]), np.rad2deg(fp[6])\\n        m1,m2,a2,m3 = ip[21],ip[23],fp[25],ip[26] #taking the INITIAL, initial masses\\n        R1, R2 = fp[22]*AU/Rsun, fp[24]*AU/Rsun # convert from AU to Rsun\\n        beta2,gamma,gamma2 = fp[32], fp[33],fp[34]\\n        \\n        spin1h, spin1e, spin1q = fp[11], fp[15], fp[16]\\n        spin2h, spin2e, spin2q = fp[19], fp[17], fp[18]\\n        spin1P_radyr = np.sqrt(spin1h**2.+spin1e**2.+spin1q**2.)\\n        spin2P_radyr = np.sqrt(spin2h**2.+spin2e**2.+spin2q**2.)\\n        spin1P = 2.*pi*365.25/spin1P_radyr\\n        spin2P = 2.*pi*365.25/spin2P_radyr\\n        \\n        beta = beta*np.pi/180.\\n        beta2 = beta2*np.pi/180.\\n        P_in = np.sqrt(a1**3 / ( (m1+m2) )  )*365.25\\n        omega_1p = (4*np.pi/P_in ) / (np.cos(beta) + (1/np.cos(beta)) )   \\n        omega_2p = (4*np.pi/P_in ) / (np.cos(beta2) + (1/np.cos(beta2)) ) \\n        omega_1p,omega_2p = 2*np.pi/omega_1p,2*np.pi/omega_2p\\n        if  (0.95*omega_1p < spin1P < 1.05*omega_1p) or (0.95*omega_2p < spin2P < 1.05*omega_2p):\\n            cassini_states.append(n)\\n            cassini_lines.append(fp)\\n\\\"\\\"\\\"\";\n                var nbb_cells = Jupyter.notebook.get_cells();\n                for (var i = 0; i < nbb_cells.length; ++i) {\n                    if (nbb_cells[i].input_prompt_number == nbb_cell_id) {\n                        if (nbb_cells[i].get_text() == nbb_unformatted_code) {\n                             nbb_cells[i].set_text(nbb_formatted_code);\n                        }\n                        break;\n                    }\n                }\n            }, 500);\n            ",
      "text/plain": [
       "<IPython.core.display.Javascript object>"
      ]
     },
     "metadata": {},
     "output_type": "display_data"
    }
   ],
   "source": [
    "#FIND THOSE THAT REACHED CASSINI STATE TO REMOVE FROM RESTART NUMBERS\n",
    "cassini_states,cassini_lines=[],[]\n",
    "outputs_directory = '/Users/bijan1339/Desktop/Research/Final_Output/'\n",
    "for filename in os.listdir(outputs_directory):\n",
    "    \n",
    "    this_file = os.path.join(outputs_directory, filename)\n",
    "    n = filename.split('_')[-1].split('.')[0]\n",
    "    # if type(maybe_float(n)) == float and int(n) in cass_n:\n",
    "    #    os.remove(this_file)\n",
    "        \n",
    "    if (\n",
    "        (os.stat(this_file).st_size != 0.) and (filename.endswith('.txt') and \n",
    "        filename.startswith('output_') ) and (1000 <= int(n) <=1400 or 1500 <= int(n) <2000) \n",
    "        ):\n",
    "        \n",
    "        n = int(filename.split('_')[-1].split('.')[0]) #output_n.txt\n",
    "\n",
    "        first_line, last_line = get_first_line(this_file).split('\\t'), get_last_line(this_file).split('\\t') #last line\n",
    "        first_line, last_line = [x.strip() for x in first_line], [x.strip() for x in last_line]\n",
    "        \n",
    "        ip, fp = [maybe_float(y) for y in first_line], [maybe_float(y) for y in last_line]    \n",
    "        \n",
    "        total_age = 12.5e9\n",
    "        age = total_age/1e6 #(total_age-end_time)/1e6 # rest of time simulation needs to run to\n",
    "        e1,e2,a1,i,beta = fp[3], fp[4], fp[7], fp[10],fp[13]\n",
    "        g1, g2 = np.rad2deg(fp[5]), np.rad2deg(fp[6])\n",
    "        m1,m2,a2,m3 = ip[21],ip[23],fp[25],ip[26] #taking the INITIAL, initial masses\n",
    "        R1, R2 = fp[22]*AU/Rsun, fp[24]*AU/Rsun # convert from AU to Rsun\n",
    "        beta2,gamma,gamma2 = fp[32], fp[33],fp[34]\n",
    "        \n",
    "        spin1h, spin1e, spin1q = fp[11], fp[15], fp[16]\n",
    "        spin2h, spin2e, spin2q = fp[19], fp[17], fp[18]\n",
    "        spin1P_radyr = np.sqrt(spin1h**2.+spin1e**2.+spin1q**2.)\n",
    "        spin2P_radyr = np.sqrt(spin2h**2.+spin2e**2.+spin2q**2.)\n",
    "        spin1P = 2.*pi*365.25/spin1P_radyr\n",
    "        spin2P = 2.*pi*365.25/spin2P_radyr\n",
    "        \n",
    "        beta = beta*np.pi/180.\n",
    "        beta2 = beta2*np.pi/180.\n",
    "        P_in = np.sqrt(a1**3 / ( (m1+m2) )  )*365.25\n",
    "        omega_1p = (4*np.pi/P_in ) / (np.cos(beta) + (1/np.cos(beta)) )   \n",
    "        omega_2p = (4*np.pi/P_in ) / (np.cos(beta2) + (1/np.cos(beta2)) ) \n",
    "        omega_1p,omega_2p = 2*np.pi/omega_1p,2*np.pi/omega_2p\n",
    "        if  (0.95*omega_1p < spin1P < 1.05*omega_1p) or (0.95*omega_2p < spin2P < 1.05*omega_2p):\n",
    "            cassini_states.append(n)\n",
    "            cassini_lines.append(fp)\n"
   ]
  },
  {
   "cell_type": "code",
   "execution_count": 270,
   "id": "8502a28c",
   "metadata": {},
   "outputs": [
    {
     "name": "stdout",
     "output_type": "stream",
     "text": [
      "(7001, 7002, 7003, 7004, 7011, 7013, 7015, 7019, 7021, 7023, 7024, 7025, 7036, 7039, 7058, 7059, 7061, 7063, 7064, 7066, 7067, 7068, 7070, 7072, 7075, 7077, 7078, 7084, 7090, 7092, 7093, 7100, 7102, 7103, 7113, 7116, 7117, 7119, 7120, 7122, 7124, 7126, 7129, 7130, 7138, 7143, 7147, 7151, 7156, 7160, 7161, 7162, 7168, 7172, 7177, 7179, 7180, 7186, 7193, 7196, 7200, 7205, 7206, 7207, 7208, 7209, 7210, 7212, 7215, 7219, 7221, 7222, 7231, 7233, 7234, 7236, 7242, 7243, 7256, 7259, 7263, 7266, 7268, 7274, 7276, 7279, 7282, 7284, 7290, 7292, 7293, 7294, 7296, 7300, 7301, 7302, 7304, 7305, 7307, 7308, 7309, 7310, 7311, 7313, 7315, 7316, 7318, 7322, 7325, 7328, 7331, 7336, 7338, 7342, 7344, 7345, 7347, 7352, 7353, 7359, 7365, 7367, 7368, 7370, 7372, 7374, 7376, 7383, 7385, 7387, 7390, 7394, 7397, 7398, 7401, 7406, 7408, 7413, 7413, 7415, 7419, 7422, 7423, 7425, 7427, 7432, 7433, 7437, 7438, 7444, 7445, 7447, 7450, 7454, 7461, 7465, 7466, 7470, 7476, 7477, 7479, 7482, 7486, 7489, 7491, 7493, 7497, 7505, 7508, 7509, 7513, 7514, 7515, 7517, 7519, 7524, 7525, 7527, 7530, 7533, 7535, 7540, 7546, 7548, 7552, 7557, 7560, 7561, 7563, 7564, 7567, 7568, 7569, 7570, 7571, 7575, 7577, 7579, 7580, 7581, 7582, 7588, 7599, 7601, 7607, 7612, 7620, 7625, 7630, 7631, 7632, 7637, 7642, 7643, 7648, 7651, 7653, 7655, 7657, 7658, 7661, 7662, 7667, 7669, 7670, 7672, 7673, 7683, 7684, 7689, 7690, 7695, 7698, 7702, 7703, 7704, 7710, 7714, 7716, 7718, 7723, 7724, 7729, 7730, 7732, 7736, 7737, 7740, 7743, 7746, 7750, 7751, 7756, 7758, 7759, 7763, 7765, 7767, 7772, 7774, 7780, 7788, 7789, 7790, 7791, 7791, 7794, 7794, 7796, 7801, 7805, 7807, 7808, 7810, 7812, 7813, 7815, 7818, 7822, 7823, 7827, 7834, 7843, 7848, 7849, 7851, 7852, 7853, 7856, 7859, 7862, 7868, 7870, 7874, 7875, 7878, 7881, 7883, 7885, 7886, 7889, 7894, 7898, 7901, 7903, 7904, 7905, 7907, 7909, 7912, 7914, 7916, 7918, 7923, 7926, 7927, 7929, 7933, 7945, 7949, 7955, 7956, 7957, 7958, 7960, 7961, 7964, 7966, 7967, 7977, 7978, 7979, 7981, 7982, 7988, 7995, 7998, 7999)\n"
     ]
    },
    {
     "data": {
      "application/javascript": "\n            setTimeout(function() {\n                var nbb_cell_id = 270;\n                var nbb_unformatted_code = \"print(cassini_n)\";\n                var nbb_formatted_code = \"print(cassini_n)\";\n                var nbb_cells = Jupyter.notebook.get_cells();\n                for (var i = 0; i < nbb_cells.length; ++i) {\n                    if (nbb_cells[i].input_prompt_number == nbb_cell_id) {\n                        if (nbb_cells[i].get_text() == nbb_unformatted_code) {\n                             nbb_cells[i].set_text(nbb_formatted_code);\n                        }\n                        break;\n                    }\n                }\n            }, 500);\n            ",
      "text/plain": [
       "<IPython.core.display.Javascript object>"
      ]
     },
     "metadata": {},
     "output_type": "display_data"
    }
   ],
   "source": [
    "\"\"\"\n",
    "-RESTART 8k WDXX files to get better sample\n",
    "-\n",
    "\n",
    "\n",
    "\"\"\""
   ]
  },
  {
   "cell_type": "code",
   "execution_count": null,
   "id": "969b8f35",
   "metadata": {},
   "outputs": [],
   "source": []
  },
  {
   "cell_type": "code",
   "execution_count": null,
   "id": "c5fd176b",
   "metadata": {},
   "outputs": [],
   "source": []
  },
  {
   "cell_type": "code",
   "execution_count": null,
   "id": "93a94ab9",
   "metadata": {},
   "outputs": [],
   "source": []
  },
  {
   "cell_type": "code",
   "execution_count": null,
   "id": "f923dd41",
   "metadata": {},
   "outputs": [],
   "source": []
  },
  {
   "cell_type": "code",
   "execution_count": null,
   "id": "9714ad6e",
   "metadata": {},
   "outputs": [],
   "source": []
  }
 ],
 "metadata": {
  "kernelspec": {
   "display_name": "Python 3 (ipykernel)",
   "language": "python",
   "name": "python3"
  },
  "language_info": {
   "codemirror_mode": {
    "name": "ipython",
    "version": 3
   },
   "file_extension": ".py",
   "mimetype": "text/x-python",
   "name": "python",
   "nbconvert_exporter": "python",
   "pygments_lexer": "ipython3",
   "version": "3.10.0"
  },
  "vscode": {
   "interpreter": {
    "hash": "aee8b7b246df8f9039afb4144a1f6fd8d2ca17a180786b69acc140d282b71a49"
   }
  }
 },
 "nbformat": 4,
 "nbformat_minor": 5
}
