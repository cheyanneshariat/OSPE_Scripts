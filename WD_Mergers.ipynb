{
 "cells": [
  {
   "cell_type": "code",
   "execution_count": 42,
   "metadata": {},
   "outputs": [
    {
     "data": {
      "text/plain": [
       "<Figure size 800x600 with 0 Axes>"
      ]
     },
     "metadata": {},
     "output_type": "display_data"
    }
   ],
   "source": [
    "import pandas as pd\n",
    "import matplotlib.pyplot as plt\n",
    "import numpy as np\n",
    "import os\n",
    "from tqdm.auto import tqdm\n",
    "import scienceplots\n",
    "pd.set_option('display.max_columns', None)\n",
    "plt.style.use(['science','notebook']) #plt.style.use(['science','notebook'])\n",
    "plt.tight_layout()\n",
    "import warnings\n",
    "warnings.simplefilter(action='ignore', category=FutureWarning)\n"
   ]
  },
  {
   "cell_type": "code",
   "execution_count": 41,
   "metadata": {},
   "outputs": [],
   "source": [
    "DIR = '/Users/bijan1339/Desktop/Research/'\n",
    "pickle_PATH = '/Users/bijan1339/Desktop/Research/Dataframes/'\n",
    "\n",
    "output_directory0 = '/Users/bijan1339/Desktop/Research/Final_Output0/'\n",
    "output_directory1 = '/Users/bijan1339/Desktop/Research/Final_Output1/'\n",
    "output_directory4 = '/Users/bijan1339/Desktop/Research/Final_Output4/'\n",
    "output_directory6 = '/Users/bijan1339/Desktop/Research/Final_Output6/'\n",
    "output_directory7 = '/Users/bijan1339/Desktop/Research/Final_Output/'\n",
    "output_directory8 = '/Users/bijan1339/Desktop/Research/Final_Output8/'\n",
    "output_directory9 = '/Users/bijan1339/Desktop/Research/Final_Output9/'\n",
    "\n",
    "MS_Types = [0.,1.,2.,7.,8.,9.]\n",
    "RG_Types = [3.,4.,5.,6.]# Giant Branch sequences keys from SSE\n",
    "WD_Types = [10.,11.,12.] #White Dwarf keys from SSE\n"
   ]
  },
  {
   "cell_type": "code",
   "execution_count": 19,
   "metadata": {},
   "outputs": [],
   "source": [
    "df_initial0        = pd.read_pickle(pickle_PATH + 'df_initial0.pkl')\n",
    "df_final0          = pd.read_pickle(pickle_PATH + 'df_final0.pkl')\n",
    "merged_df_initial0 = pd.read_pickle(pickle_PATH + 'merged_df_initial0.pkl')\n",
    "merged_df_final0   = pd.read_pickle(pickle_PATH + 'merged_df_final0.pkl')\n",
    "\n",
    "df_initial1        = pd.read_pickle(pickle_PATH + 'df_initial1.pkl')\n",
    "df_final1          = pd.read_pickle(pickle_PATH + 'df_final1.pkl')\n",
    "merged_df_initial1 = pd.read_pickle(pickle_PATH + 'merged_df_initial1.pkl')\n",
    "merged_df_final1   = pd.read_pickle(pickle_PATH + 'merged_df_final1.pkl')\n",
    "\n",
    "df_initial6        = pd.read_pickle(pickle_PATH + 'df_initial6.pkl')\n",
    "df_final6          = pd.read_pickle(pickle_PATH + 'df_final6.pkl')\n",
    "merged_df_initial6 = pd.read_pickle(pickle_PATH + 'merged_df_initial6.pkl')\n",
    "merged_df_final6   = pd.read_pickle(pickle_PATH + 'merged_df_final6.pkl')\n",
    "\n",
    "df_initial7        = pd.read_pickle(pickle_PATH + 'df_initial7.pkl')\n",
    "df_final7          = pd.read_pickle(pickle_PATH + 'df_final7.pkl')\n",
    "merged_df_initial7 = pd.read_pickle(pickle_PATH + 'merged_df_initial7.pkl')\n",
    "merged_df_final7   = pd.read_pickle(pickle_PATH + 'merged_df_final7.pkl')"
   ]
  },
  {
   "cell_type": "code",
   "execution_count": 47,
   "metadata": {},
   "outputs": [
    {
     "data": {
      "text/html": [
       "<div>\n",
       "<style scoped>\n",
       "    .dataframe tbody tr th:only-of-type {\n",
       "        vertical-align: middle;\n",
       "    }\n",
       "\n",
       "    .dataframe tbody tr th {\n",
       "        vertical-align: top;\n",
       "    }\n",
       "\n",
       "    .dataframe thead th {\n",
       "        text-align: right;\n",
       "    }\n",
       "</style>\n",
       "<table border=\"1\" class=\"dataframe\">\n",
       "  <thead>\n",
       "    <tr style=\"text-align: right;\">\n",
       "      <th></th>\n",
       "      <th>N</th>\n",
       "      <th>sur</th>\n",
       "      <th>sur2</th>\n",
       "      <th>t</th>\n",
       "      <th>e1</th>\n",
       "      <th>e2</th>\n",
       "      <th>g1</th>\n",
       "      <th>g2</th>\n",
       "      <th>a1</th>\n",
       "      <th>i1</th>\n",
       "      <th>i2</th>\n",
       "      <th>i</th>\n",
       "      <th>spin1h</th>\n",
       "      <th>spintot</th>\n",
       "      <th>beta</th>\n",
       "      <th>vp</th>\n",
       "      <th>spin1e</th>\n",
       "      <th>spin1q</th>\n",
       "      <th>spin2e</th>\n",
       "      <th>spin2q</th>\n",
       "      <th>spin2h</th>\n",
       "      <th>htot</th>\n",
       "      <th>m1</th>\n",
       "      <th>R1</th>\n",
       "      <th>m2</th>\n",
       "      <th>R2</th>\n",
       "      <th>a2</th>\n",
       "      <th>m3</th>\n",
       "      <th>Roche1</th>\n",
       "      <th>R1_pow</th>\n",
       "      <th>type1</th>\n",
       "      <th>type2</th>\n",
       "      <th>type3</th>\n",
       "      <th>beta2</th>\n",
       "      <th>gamma</th>\n",
       "      <th>gamma2</th>\n",
       "      <th>flag</th>\n",
       "      <th>P_in</th>\n",
       "      <th>P_out</th>\n",
       "      <th>startype1</th>\n",
       "      <th>startype2</th>\n",
       "      <th>startype3</th>\n",
       "      <th>bintype</th>\n",
       "      <th>triptype</th>\n",
       "      <th>merged</th>\n",
       "      <th>t_quad</th>\n",
       "      <th>m1_merged</th>\n",
       "      <th>m2_merged</th>\n",
       "    </tr>\n",
       "  </thead>\n",
       "  <tbody>\n",
       "    <tr>\n",
       "      <th>491</th>\n",
       "      <td>542</td>\n",
       "      <td>3</td>\n",
       "      <td>2</td>\n",
       "      <td>7.910414e+09</td>\n",
       "      <td>0.0</td>\n",
       "      <td>0.663237</td>\n",
       "      <td>-2.882835</td>\n",
       "      <td>-0.094808</td>\n",
       "      <td>0.128652</td>\n",
       "      <td>7.994937</td>\n",
       "      <td>0.126852</td>\n",
       "      <td>8.121789</td>\n",
       "      <td>2187.851</td>\n",
       "      <td>2187.851</td>\n",
       "      <td>0.000002</td>\n",
       "      <td>0.0</td>\n",
       "      <td>0.000020</td>\n",
       "      <td>0.000077</td>\n",
       "      <td>0.000014</td>\n",
       "      <td>0.000052</td>\n",
       "      <td>2187.910</td>\n",
       "      <td>1.511242</td>\n",
       "      <td>1.0</td>\n",
       "      <td>0.075043</td>\n",
       "      <td>1.201184</td>\n",
       "      <td>0.000102</td>\n",
       "      <td>60.414474</td>\n",
       "      <td>1.4023</td>\n",
       "      <td>0.008952</td>\n",
       "      <td>0.003374</td>\n",
       "      <td>3</td>\n",
       "      <td>10</td>\n",
       "      <td>11</td>\n",
       "      <td>0.000001</td>\n",
       "      <td>67.344823</td>\n",
       "      <td>19.717447</td>\n",
       "      <td>END</td>\n",
       "      <td>11.370859</td>\n",
       "      <td>103844.760396</td>\n",
       "      <td>RG</td>\n",
       "      <td>WD</td>\n",
       "      <td>WD</td>\n",
       "      <td>RGWD</td>\n",
       "      <td>RGWD-WD</td>\n",
       "      <td>True</td>\n",
       "      <td>6.174805e+08</td>\n",
       "      <td>True</td>\n",
       "      <td>True</td>\n",
       "    </tr>\n",
       "    <tr>\n",
       "      <th>947</th>\n",
       "      <td>954</td>\n",
       "      <td>3</td>\n",
       "      <td>2</td>\n",
       "      <td>8.572151e+09</td>\n",
       "      <td>0.0</td>\n",
       "      <td>0.257838</td>\n",
       "      <td>1.743941</td>\n",
       "      <td>2.927343</td>\n",
       "      <td>0.142854</td>\n",
       "      <td>111.545000</td>\n",
       "      <td>1.987449</td>\n",
       "      <td>113.532500</td>\n",
       "      <td>1738.576</td>\n",
       "      <td>1738.576</td>\n",
       "      <td>0.002153</td>\n",
       "      <td>0.0</td>\n",
       "      <td>0.064363</td>\n",
       "      <td>-0.011249</td>\n",
       "      <td>0.048505</td>\n",
       "      <td>-0.008476</td>\n",
       "      <td>1738.646</td>\n",
       "      <td>1.606537</td>\n",
       "      <td>1.0</td>\n",
       "      <td>0.082504</td>\n",
       "      <td>1.150740</td>\n",
       "      <td>0.000100</td>\n",
       "      <td>8.289838</td>\n",
       "      <td>1.2971</td>\n",
       "      <td>0.008883</td>\n",
       "      <td>0.003352</td>\n",
       "      <td>3</td>\n",
       "      <td>10</td>\n",
       "      <td>11</td>\n",
       "      <td>0.001623</td>\n",
       "      <td>167.716876</td>\n",
       "      <td>23.196181</td>\n",
       "      <td>END</td>\n",
       "      <td>13.460832</td>\n",
       "      <td>5336.728293</td>\n",
       "      <td>RG</td>\n",
       "      <td>WD</td>\n",
       "      <td>WD</td>\n",
       "      <td>RGWD</td>\n",
       "      <td>RGWD-WD</td>\n",
       "      <td>True</td>\n",
       "      <td>3.151338e+06</td>\n",
       "      <td>True</td>\n",
       "      <td>True</td>\n",
       "    </tr>\n",
       "  </tbody>\n",
       "</table>\n",
       "</div>"
      ],
      "text/plain": [
       "       N  sur  sur2             t   e1        e2        g1        g2  \\\n",
       "491  542    3     2  7.910414e+09  0.0  0.663237 -2.882835 -0.094808   \n",
       "947  954    3     2  8.572151e+09  0.0  0.257838  1.743941  2.927343   \n",
       "\n",
       "           a1          i1        i2           i    spin1h   spintot      beta  \\\n",
       "491  0.128652    7.994937  0.126852    8.121789  2187.851  2187.851  0.000002   \n",
       "947  0.142854  111.545000  1.987449  113.532500  1738.576  1738.576  0.002153   \n",
       "\n",
       "      vp    spin1e    spin1q    spin2e    spin2q    spin2h      htot   m1  \\\n",
       "491  0.0  0.000020  0.000077  0.000014  0.000052  2187.910  1.511242  1.0   \n",
       "947  0.0  0.064363 -0.011249  0.048505 -0.008476  1738.646  1.606537  1.0   \n",
       "\n",
       "           R1        m2        R2         a2      m3    Roche1    R1_pow  \\\n",
       "491  0.075043  1.201184  0.000102  60.414474  1.4023  0.008952  0.003374   \n",
       "947  0.082504  1.150740  0.000100   8.289838  1.2971  0.008883  0.003352   \n",
       "\n",
       "     type1  type2  type3     beta2       gamma     gamma2 flag       P_in  \\\n",
       "491      3     10     11  0.000001   67.344823  19.717447  END  11.370859   \n",
       "947      3     10     11  0.001623  167.716876  23.196181  END  13.460832   \n",
       "\n",
       "             P_out startype1 startype2 startype3 bintype triptype  merged  \\\n",
       "491  103844.760396        RG        WD        WD    RGWD  RGWD-WD    True   \n",
       "947    5336.728293        RG        WD        WD    RGWD  RGWD-WD    True   \n",
       "\n",
       "           t_quad m1_merged m2_merged  \n",
       "491  6.174805e+08      True      True  \n",
       "947  3.151338e+06      True      True  "
      ]
     },
     "execution_count": 47,
     "metadata": {},
     "output_type": "execute_result"
    }
   ],
   "source": [
    "m1_merged_df0 = merged_df_final0[merged_df_final0['m1_merged'] == True]\n",
    "m2_merged_df0 = merged_df_final0[merged_df_final0['m2_merged'] == True]\n",
    "\n",
    "m1_merged_df1 = merged_df_final1[merged_df_final1['m1_merged'] == True]\n",
    "m2_merged_df1 = merged_df_final1[merged_df_final1['m2_merged'] == True]\n",
    "\n",
    "m1_merged_df6 = merged_df_final6[merged_df_final6['m1_merged'] == True]\n",
    "m2_merged_df6 = merged_df_final6[merged_df_final6['m2_merged'] == True]\n",
    "\n",
    "m1_merged_df7 = merged_df_final7[merged_df_final7['m1_merged'] == True]\n",
    "m2_merged_df7 = merged_df_final7[merged_df_final7['m2_merged'] == True]\n",
    "\n",
    "\n",
    "wdwd_after_merger1 = pd.concat( [m1_merged_df1.query(\"startype2 == 'WD' and startype3 == 'WD'\"), m2_merged_df1.query(\"startype1 == 'WD' and startype3 == 'WD'\")])\n",
    "wdwd_after_merger6 = pd.concat( [m1_merged_df6.query(\"startype2 == 'WD' and startype3 == 'WD'\"), m2_merged_df6.query(\"startype1 == 'WD' and startype3 == 'WD'\")])\n",
    "wdwd_after_merger7 = pd.concat( [m1_merged_df7.query(\"startype2 == 'WD' and startype3 == 'WD'\"), m2_merged_df7.query(\"startype1 == 'WD' and startype3 == 'WD'\")])\n",
    "wdwd_after_merger0 = pd.concat( [m1_merged_df0.query(\"startype2 == 'WD' and startype3 == 'WD'\"), m2_merged_df0.query(\"startype1 == 'WD' and startype3 == 'WD'\")])"
   ]
  },
  {
   "cell_type": "code",
   "execution_count": 54,
   "metadata": {},
   "outputs": [
    {
     "data": {
      "text/plain": [
       "<matplotlib.lines.Line2D at 0x11c12f610>"
      ]
     },
     "execution_count": 54,
     "metadata": {},
     "output_type": "execute_result"
    },
    {
     "data": {
      "image/png": "[encoded data removed]",
      "text/plain": [
       "<Figure size 800x600 with 1 Axes>"
      ]
     },
     "metadata": {},
     "output_type": "display_data"
    }
   ],
   "source": [
    "plt.hist(np.log10(m1_merged_df1.t))\n",
    "plt.axvline(np.log10(12.5e9))\n",
    "\n",
    "#.value_counts('triptype')"
   ]
  },
  {
   "cell_type": "code",
   "execution_count": 49,
   "metadata": {},
   "outputs": [
    {
     "data": {
      "text/plain": [
       "Text(0.5, 0, '$a_2$')"
      ]
     },
     "execution_count": 49,
     "metadata": {},
     "output_type": "execute_result"
    },
    {
     "data": {
      "image/png": "[encoded data removed]",
      "text/plain": [
       "<Figure size 1200x800 with 2 Axes>"
      ]
     },
     "metadata": {},
     "output_type": "display_data"
    }
   ],
   "source": [
    "fig, (ax1, ax2) = plt.subplots(nrows=2, ncols=1, figsize=(12, 8), sharex=True, sharey=True)\n",
    "\n",
    "\n",
    "ax1.hist(np.log10(wdwd_after_merger1['a2']), histtype='step', color='r', label='KOB', density=True)\n",
    "ax1.hist(np.log10(wdwd_after_merger6['a2']), histtype='step', color='g', label='KIB', density=True)\n",
    "\n",
    "ax2.set_xlabel('$a_2$')"
   ]
  },
  {
   "cell_type": "code",
   "execution_count": null,
   "metadata": {},
   "outputs": [],
   "source": []
  }
 ],
 "metadata": {
  "kernelspec": {
   "display_name": "Python 3",
   "language": "python",
   "name": "python3"
  },
  "language_info": {
   "codemirror_mode": {
    "name": "ipython",
    "version": 3
   },
   "file_extension": ".py",
   "mimetype": "text/x-python",
   "name": "python",
   "nbconvert_exporter": "python",
   "pygments_lexer": "ipython3",
   "version": "3.10.0"
  },
  "orig_nbformat": 4
 },
 "nbformat": 4,
 "nbformat_minor": 2
}
