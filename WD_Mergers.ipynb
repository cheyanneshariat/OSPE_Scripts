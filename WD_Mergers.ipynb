{
 "cells": [
  {
   "cell_type": "code",
   "execution_count": 2,
   "metadata": {},
   "outputs": [
    {
     "data": {
      "text/plain": [
       "<Figure size 800x600 with 0 Axes>"
      ]
     },
     "metadata": {},
     "output_type": "display_data"
    }
   ],
   "source": [
    "import pandas as pd\n",
    "import matplotlib.pyplot as plt\n",
    "import numpy as np\n",
    "import os\n",
    "from tqdm.auto import tqdm\n",
    "import scienceplots\n",
    "pd.set_option('display.max_columns', None)\n",
    "plt.style.use(['science','notebook']) #plt.style.use(['science','notebook'])\n",
    "plt.tight_layout()\n",
    "import warnings\n",
    "warnings.simplefilter(action='ignore', category=FutureWarning)\n"
   ]
  },
  {
   "cell_type": "code",
   "execution_count": 3,
   "metadata": {},
   "outputs": [],
   "source": [
    "DIR = '/Users/bijan1339/Desktop/Research/'\n",
    "pickle_PATH = '/Users/bijan1339/Desktop/Research/Dataframes/'\n",
    "\n",
    "output_directory0 = '/Users/bijan1339/Desktop/Research/Final_Output0/'\n",
    "output_directory1 = '/Users/bijan1339/Desktop/Research/Final_Output1/'\n",
    "output_directory4 = '/Users/bijan1339/Desktop/Research/Final_Output4/'\n",
    "output_directory6 = '/Users/bijan1339/Desktop/Research/Final_Output6/'\n",
    "output_directory7 = '/Users/bijan1339/Desktop/Research/Final_Output/'\n",
    "output_directory8 = '/Users/bijan1339/Desktop/Research/Final_Output8/'\n",
    "output_directory9 = '/Users/bijan1339/Desktop/Research/Final_Output9/'\n",
    "\n",
    "MS_Types = [0.,1.,2.,7.,8.,9.]\n",
    "RG_Types = [3.,4.,5.,6.]# Giant Branch sequences keys from SSE\n",
    "WD_Types = [10.,11.,12.] #White Dwarf keys from SSE\n"
   ]
  },
  {
   "cell_type": "code",
   "execution_count": 4,
   "metadata": {},
   "outputs": [],
   "source": [
    "df_initial0        = pd.read_pickle(pickle_PATH + 'df_initial0.pkl')\n",
    "df_final0          = pd.read_pickle(pickle_PATH + 'df_final0.pkl')\n",
    "merged_df_initial0 = pd.read_pickle(pickle_PATH + 'merged_df_initial0.pkl')\n",
    "merged_df_final0   = pd.read_pickle(pickle_PATH + 'merged_df_final0.pkl')\n",
    "\n",
    "df_initial1        = pd.read_pickle(pickle_PATH + 'df_initial1.pkl')\n",
    "df_final1          = pd.read_pickle(pickle_PATH + 'df_final1.pkl')\n",
    "merged_df_initial1 = pd.read_pickle(pickle_PATH + 'merged_df_initial1.pkl')\n",
    "merged_df_final1   = pd.read_pickle(pickle_PATH + 'merged_df_final1.pkl')\n",
    "\n",
    "df_initial6        = pd.read_pickle(pickle_PATH + 'df_initial6.pkl')\n",
    "df_final6          = pd.read_pickle(pickle_PATH + 'df_final6.pkl')\n",
    "merged_df_initial6 = pd.read_pickle(pickle_PATH + 'merged_df_initial6.pkl')\n",
    "merged_df_final6   = pd.read_pickle(pickle_PATH + 'merged_df_final6.pkl')\n",
    "\n",
    "df_initial7        = pd.read_pickle(pickle_PATH + 'df_initial7.pkl')\n",
    "df_final7          = pd.read_pickle(pickle_PATH + 'df_final7.pkl')\n",
    "merged_df_initial7 = pd.read_pickle(pickle_PATH + 'merged_df_initial7.pkl')\n",
    "merged_df_final7   = pd.read_pickle(pickle_PATH + 'merged_df_final7.pkl')"
   ]
  },
  {
   "cell_type": "code",
   "execution_count": 5,
   "metadata": {},
   "outputs": [],
   "source": [
    "m1_merged_df0 = merged_df_final0[merged_df_final0['m1_merged'] == True]\n",
    "m2_merged_df0 = merged_df_final0[merged_df_final0['m2_merged'] == True]\n",
    "\n",
    "m1_merged_df1 = merged_df_final1[merged_df_final1['m1_merged'] == True]\n",
    "m2_merged_df1 = merged_df_final1[merged_df_final1['m2_merged'] == True]\n",
    "\n",
    "m1_merged_df6 = merged_df_final6[merged_df_final6['m1_merged'] == True]\n",
    "m2_merged_df6 = merged_df_final6[merged_df_final6['m2_merged'] == True]\n",
    "\n",
    "m1_merged_df7 = merged_df_final7[merged_df_final7['m1_merged'] == True]\n",
    "m2_merged_df7 = merged_df_final7[merged_df_final7['m2_merged'] == True]\n",
    "\n",
    "\n",
    "wdwd_after_merger1 = pd.concat( [m1_merged_df1.query(\"startype2 == 'WD' and startype3 == 'WD'\"), m2_merged_df1.query(\"startype1 == 'WD' and startype3 == 'WD'\")])\n",
    "wdwd_after_merger6 = pd.concat( [m1_merged_df6.query(\"startype2 == 'WD' and startype3 == 'WD'\"), m2_merged_df6.query(\"startype1 == 'WD' and startype3 == 'WD'\")])\n",
    "wdwd_after_merger7 = pd.concat( [m1_merged_df7.query(\"startype2 == 'WD' and startype3 == 'WD'\"), m2_merged_df7.query(\"startype1 == 'WD' and startype3 == 'WD'\")])\n",
    "wdwd_after_merger0 = pd.concat( [m1_merged_df0.query(\"startype2 == 'WD' and startype3 == 'WD'\"), m2_merged_df0.query(\"startype1 == 'WD' and startype3 == 'WD'\")])"
   ]
  },
  {
   "cell_type": "code",
   "execution_count": 6,
   "metadata": {},
   "outputs": [
    {
     "data": {
      "text/html": [
       "<div>\n",
       "<style scoped>\n",
       "    .dataframe tbody tr th:only-of-type {\n",
       "        vertical-align: middle;\n",
       "    }\n",
       "\n",
       "    .dataframe tbody tr th {\n",
       "        vertical-align: top;\n",
       "    }\n",
       "\n",
       "    .dataframe thead th {\n",
       "        text-align: right;\n",
       "    }\n",
       "</style>\n",
       "<table border=\"1\" class=\"dataframe\">\n",
       "  <thead>\n",
       "    <tr style=\"text-align: right;\">\n",
       "      <th></th>\n",
       "      <th>source_id_1</th>\n",
       "      <th>source_id_2</th>\n",
       "      <th>MassH_1</th>\n",
       "      <th>MassH_2</th>\n",
       "      <th>cool_ageH_1</th>\n",
       "      <th>cool_ageH_2</th>\n",
       "      <th>init_mass_1</th>\n",
       "      <th>init_mass_2</th>\n",
       "      <th>tot_age_1</th>\n",
       "      <th>tot_age_2</th>\n",
       "      <th>sep_AU</th>\n",
       "      <th>R_chance_align</th>\n",
       "      <th>e_MassH_upper_1</th>\n",
       "      <th>e_MassH_lower_1</th>\n",
       "      <th>e_cool_ageH_upper_1</th>\n",
       "      <th>e_cool_ageH_lower_1</th>\n",
       "      <th>e_init_mass_upper_1</th>\n",
       "      <th>e_init_mass_lower_1</th>\n",
       "      <th>e_tot_age_upper_1</th>\n",
       "      <th>e_tot_age_lower_1</th>\n",
       "      <th>e_MassH_upper_2</th>\n",
       "      <th>e_MassH_lower_2</th>\n",
       "      <th>e_cool_ageH_upper_2</th>\n",
       "      <th>e_cool_ageH_lower_2</th>\n",
       "      <th>e_init_mass_upper_2</th>\n",
       "      <th>e_init_mass_lower_2</th>\n",
       "      <th>e_tot_age_upper_2</th>\n",
       "      <th>e_tot_age_lower_2</th>\n",
       "    </tr>\n",
       "  </thead>\n",
       "  <tbody>\n",
       "    <tr>\n",
       "      <th>0</th>\n",
       "      <td>1003080575370626944</td>\n",
       "      <td>1003080575370617728</td>\n",
       "      <td>0.647</td>\n",
       "      <td>0.599</td>\n",
       "      <td>8.0041</td>\n",
       "      <td>7.2616</td>\n",
       "      <td>2.321</td>\n",
       "      <td>1.180</td>\n",
       "      <td>8.9655</td>\n",
       "      <td>13.6651</td>\n",
       "      <td>658.372570</td>\n",
       "      <td>7.931599e-06</td>\n",
       "      <td>0.061</td>\n",
       "      <td>0.060</td>\n",
       "      <td>0.6026</td>\n",
       "      <td>0.3149</td>\n",
       "      <td>0.673</td>\n",
       "      <td>1.291</td>\n",
       "      <td>9.3585</td>\n",
       "      <td>0.5927</td>\n",
       "      <td>0.059</td>\n",
       "      <td>0.060</td>\n",
       "      <td>0.7462</td>\n",
       "      <td>0.4692</td>\n",
       "      <td>1.337</td>\n",
       "      <td>0.561</td>\n",
       "      <td>51.4788</td>\n",
       "      <td>5.6627</td>\n",
       "    </tr>\n",
       "    <tr>\n",
       "      <th>1</th>\n",
       "      <td>100536353946761728</td>\n",
       "      <td>100536353946762112</td>\n",
       "      <td>0.483</td>\n",
       "      <td>0.472</td>\n",
       "      <td>1.5763</td>\n",
       "      <td>1.8578</td>\n",
       "      <td>0.130</td>\n",
       "      <td>0.038</td>\n",
       "      <td>2372.2925</td>\n",
       "      <td>NaN</td>\n",
       "      <td>1677.455167</td>\n",
       "      <td>1.949616e-04</td>\n",
       "      <td>0.067</td>\n",
       "      <td>0.073</td>\n",
       "      <td>0.0987</td>\n",
       "      <td>0.1324</td>\n",
       "      <td>0.579</td>\n",
       "      <td>0.636</td>\n",
       "      <td>NaN</td>\n",
       "      <td>2333.6667</td>\n",
       "      <td>0.077</td>\n",
       "      <td>0.080</td>\n",
       "      <td>0.1471</td>\n",
       "      <td>0.1940</td>\n",
       "      <td>0.668</td>\n",
       "      <td>0.693</td>\n",
       "      <td>NaN</td>\n",
       "      <td>NaN</td>\n",
       "    </tr>\n",
       "    <tr>\n",
       "      <th>2</th>\n",
       "      <td>1006533767732900736</td>\n",
       "      <td>1006533763440848256</td>\n",
       "      <td>0.719</td>\n",
       "      <td>0.540</td>\n",
       "      <td>1.9364</td>\n",
       "      <td>1.1852</td>\n",
       "      <td>3.064</td>\n",
       "      <td>0.622</td>\n",
       "      <td>2.3678</td>\n",
       "      <td>58.1477</td>\n",
       "      <td>620.838313</td>\n",
       "      <td>9.181447e-07</td>\n",
       "      <td>0.055</td>\n",
       "      <td>0.060</td>\n",
       "      <td>0.1273</td>\n",
       "      <td>0.2182</td>\n",
       "      <td>0.299</td>\n",
       "      <td>0.541</td>\n",
       "      <td>0.3487</td>\n",
       "      <td>0.2413</td>\n",
       "      <td>0.051</td>\n",
       "      <td>0.051</td>\n",
       "      <td>0.0406</td>\n",
       "      <td>0.0481</td>\n",
       "      <td>0.446</td>\n",
       "      <td>0.447</td>\n",
       "      <td>1404.0893</td>\n",
       "      <td>47.9153</td>\n",
       "    </tr>\n",
       "    <tr>\n",
       "      <th>3</th>\n",
       "      <td>1008929564913828224</td>\n",
       "      <td>1008929569208837376</td>\n",
       "      <td>0.683</td>\n",
       "      <td>0.669</td>\n",
       "      <td>0.8133</td>\n",
       "      <td>0.5288</td>\n",
       "      <td>2.808</td>\n",
       "      <td>2.659</td>\n",
       "      <td>1.3673</td>\n",
       "      <td>1.1826</td>\n",
       "      <td>854.183094</td>\n",
       "      <td>6.642287e-06</td>\n",
       "      <td>0.040</td>\n",
       "      <td>0.042</td>\n",
       "      <td>0.0167</td>\n",
       "      <td>0.0181</td>\n",
       "      <td>0.283</td>\n",
       "      <td>0.582</td>\n",
       "      <td>0.5231</td>\n",
       "      <td>0.1340</td>\n",
       "      <td>0.034</td>\n",
       "      <td>0.035</td>\n",
       "      <td>0.0131</td>\n",
       "      <td>0.0111</td>\n",
       "      <td>0.295</td>\n",
       "      <td>0.555</td>\n",
       "      <td>0.6018</td>\n",
       "      <td>0.1748</td>\n",
       "    </tr>\n",
       "    <tr>\n",
       "      <th>4</th>\n",
       "      <td>1013776353903292928</td>\n",
       "      <td>1013776353903293056</td>\n",
       "      <td>0.664</td>\n",
       "      <td>0.581</td>\n",
       "      <td>0.0821</td>\n",
       "      <td>0.4362</td>\n",
       "      <td>2.594</td>\n",
       "      <td>0.986</td>\n",
       "      <td>0.7827</td>\n",
       "      <td>12.4604</td>\n",
       "      <td>667.621073</td>\n",
       "      <td>2.446192e-08</td>\n",
       "      <td>0.019</td>\n",
       "      <td>0.019</td>\n",
       "      <td>0.0029</td>\n",
       "      <td>0.0033</td>\n",
       "      <td>0.213</td>\n",
       "      <td>0.302</td>\n",
       "      <td>0.2909</td>\n",
       "      <td>0.1462</td>\n",
       "      <td>0.016</td>\n",
       "      <td>0.017</td>\n",
       "      <td>0.0056</td>\n",
       "      <td>0.0053</td>\n",
       "      <td>0.152</td>\n",
       "      <td>0.146</td>\n",
       "      <td>9.0277</td>\n",
       "      <td>4.7986</td>\n",
       "    </tr>\n",
       "  </tbody>\n",
       "</table>\n",
       "</div>"
      ],
      "text/plain": [
       "           source_id_1          source_id_2  MassH_1  MassH_2  cool_ageH_1  \\\n",
       "0  1003080575370626944  1003080575370617728    0.647    0.599       8.0041   \n",
       "1   100536353946761728   100536353946762112    0.483    0.472       1.5763   \n",
       "2  1006533767732900736  1006533763440848256    0.719    0.540       1.9364   \n",
       "3  1008929564913828224  1008929569208837376    0.683    0.669       0.8133   \n",
       "4  1013776353903292928  1013776353903293056    0.664    0.581       0.0821   \n",
       "\n",
       "   cool_ageH_2  init_mass_1  init_mass_2  tot_age_1  tot_age_2       sep_AU  \\\n",
       "0       7.2616        2.321        1.180     8.9655    13.6651   658.372570   \n",
       "1       1.8578        0.130        0.038  2372.2925        NaN  1677.455167   \n",
       "2       1.1852        3.064        0.622     2.3678    58.1477   620.838313   \n",
       "3       0.5288        2.808        2.659     1.3673     1.1826   854.183094   \n",
       "4       0.4362        2.594        0.986     0.7827    12.4604   667.621073   \n",
       "\n",
       "   R_chance_align  e_MassH_upper_1  e_MassH_lower_1  e_cool_ageH_upper_1  \\\n",
       "0    7.931599e-06            0.061            0.060               0.6026   \n",
       "1    1.949616e-04            0.067            0.073               0.0987   \n",
       "2    9.181447e-07            0.055            0.060               0.1273   \n",
       "3    6.642287e-06            0.040            0.042               0.0167   \n",
       "4    2.446192e-08            0.019            0.019               0.0029   \n",
       "\n",
       "   e_cool_ageH_lower_1  e_init_mass_upper_1  e_init_mass_lower_1  \\\n",
       "0               0.3149                0.673                1.291   \n",
       "1               0.1324                0.579                0.636   \n",
       "2               0.2182                0.299                0.541   \n",
       "3               0.0181                0.283                0.582   \n",
       "4               0.0033                0.213                0.302   \n",
       "\n",
       "   e_tot_age_upper_1  e_tot_age_lower_1  e_MassH_upper_2  e_MassH_lower_2  \\\n",
       "0             9.3585             0.5927            0.059            0.060   \n",
       "1                NaN          2333.6667            0.077            0.080   \n",
       "2             0.3487             0.2413            0.051            0.051   \n",
       "3             0.5231             0.1340            0.034            0.035   \n",
       "4             0.2909             0.1462            0.016            0.017   \n",
       "\n",
       "   e_cool_ageH_upper_2  e_cool_ageH_lower_2  e_init_mass_upper_2  \\\n",
       "0               0.7462               0.4692                1.337   \n",
       "1               0.1471               0.1940                0.668   \n",
       "2               0.0406               0.0481                0.446   \n",
       "3               0.0131               0.0111                0.295   \n",
       "4               0.0056               0.0053                0.152   \n",
       "\n",
       "   e_init_mass_lower_2  e_tot_age_upper_2  e_tot_age_lower_2  \n",
       "0                0.561            51.4788             5.6627  \n",
       "1                0.693                NaN                NaN  \n",
       "2                0.447          1404.0893            47.9153  \n",
       "3                0.555             0.6018             0.1748  \n",
       "4                0.146             9.0277             4.7986  "
      ]
     },
     "execution_count": 6,
     "metadata": {},
     "output_type": "execute_result"
    }
   ],
   "source": [
    "binaries_WDWD = pd.read_csv(pickle_PATH + 'Table_A1.csv')[['source_id_1', 'source_id_2', 'MassH_1', 'MassH_2', 'cool_ageH_1', 'cool_ageH_2', \n",
    "                                                           'init_mass_1', 'init_mass_2','tot_age_1', 'tot_age_2', 'sep_AU', 'R_chance_align',\n",
    "                                                           'e_MassH_upper_1', 'e_MassH_lower_1', 'e_cool_ageH_upper_1', 'e_cool_ageH_lower_1',\n",
    "                                                           'e_init_mass_upper_1', 'e_init_mass_lower_1', 'e_tot_age_upper_1', 'e_tot_age_lower_1',\n",
    "                                                           'e_MassH_upper_2', 'e_MassH_lower_2', 'e_cool_ageH_upper_2', 'e_cool_ageH_lower_2',\n",
    "                                                           'e_init_mass_upper_2', 'e_init_mass_lower_2', 'e_tot_age_upper_2', 'e_tot_age_lower_2']]\n",
    "binaries_WDWD.head()"
   ]
  },
  {
   "cell_type": "code",
   "execution_count": 14,
   "metadata": {},
   "outputs": [
    {
     "data": {
      "text/plain": [
       "Text(0.5, 0, '$\\\\log(s/au)$')"
      ]
     },
     "execution_count": 14,
     "metadata": {},
     "output_type": "execute_result"
    },
    {
     "data": {
      "image/png": "[encoded data removed]",
      "text/plain": [
       "<Figure size 800x600 with 1 Axes>"
      ]
     },
     "metadata": {},
     "output_type": "display_data"
    }
   ],
   "source": [
    "\n",
    "plt.hist(np.log10(binaries_WDWD['sep_AU']),histtype='step',bins=30,color='k',linewidth=1.5, density=True);\n",
    "plt.xticks([np.log10(30),2,3,4,5,5.5],['30','100','1000','10$^{4}$','10$^{5}$','10$^{5.5}$'])\n",
    "plt.xlabel('$\\log(s/au)$')"
   ]
  },
  {
   "cell_type": "code",
   "execution_count": 54,
   "metadata": {},
   "outputs": [
    {
     "data": {
      "text/plain": [
       "<matplotlib.lines.Line2D at 0x11c12f610>"
      ]
     },
     "execution_count": 54,
     "metadata": {},
     "output_type": "execute_result"
    },
    {
     "data": {
      "image/png": "[encoded data removed]",
      "text/plain": [
       "<Figure size 800x600 with 1 Axes>"
      ]
     },
     "metadata": {},
     "output_type": "display_data"
    }
   ],
   "source": [
    "plt.hist(np.log10(m1_merged_df1.t))\n",
    "plt.axvline(np.log10(12.5e9))\n",
    "\n",
    "#.value_counts('triptype')"
   ]
  },
  {
   "cell_type": "code",
   "execution_count": 49,
   "metadata": {},
   "outputs": [
    {
     "data": {
      "text/plain": [
       "Text(0.5, 0, '$a_2$')"
      ]
     },
     "execution_count": 49,
     "metadata": {},
     "output_type": "execute_result"
    },
    {
     "data": {
      "image/png": "[encoded data removed]",
      "text/plain": [
       "<Figure size 1200x800 with 2 Axes>"
      ]
     },
     "metadata": {},
     "output_type": "display_data"
    }
   ],
   "source": [
    "fig, (ax1, ax2) = plt.subplots(nrows=2, ncols=1, figsize=(12, 8), sharex=True, sharey=True)\n",
    "\n",
    "\n",
    "ax1.hist(np.log10(wdwd_after_merger1['a2']), histtype='step', color='r', label='KOB', density=True)\n",
    "ax1.hist(np.log10(wdwd_after_merger6['a2']), histtype='step', color='g', label='KIB', density=True)\n",
    "\n",
    "ax2.set_xlabel('$a_2$')"
   ]
  },
  {
   "cell_type": "code",
   "execution_count": null,
   "metadata": {},
   "outputs": [],
   "source": []
  }
 ],
 "metadata": {
  "kernelspec": {
   "display_name": "Python 3",
   "language": "python",
   "name": "python3"
  },
  "language_info": {
   "codemirror_mode": {
    "name": "ipython",
    "version": 3
   },
   "file_extension": ".py",
   "mimetype": "text/x-python",
   "name": "python",
   "nbconvert_exporter": "python",
   "pygments_lexer": "ipython3",
   "version": "3.10.0"
  },
  "orig_nbformat": 4
 },
 "nbformat": 4,
 "nbformat_minor": 2
}
